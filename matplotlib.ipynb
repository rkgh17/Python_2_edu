{
 "cells": [
  {
   "cell_type": "code",
   "execution_count": 1,
   "id": "1303514f-0999-42bb-b67e-bdf36c82e83b",
   "metadata": {},
   "outputs": [],
   "source": [
    "import pandas as pd"
   ]
  },
  {
   "cell_type": "code",
   "execution_count": 2,
   "id": "61b910da-c9d8-4987-b28b-45e2ea1d7a7b",
   "metadata": {},
   "outputs": [],
   "source": [
    "#데이터 샘플본을통한 그래프 출력\n",
    "import seaborn as sns"
   ]
  },
  {
   "cell_type": "code",
   "execution_count": 3,
   "id": "1806ff2f-2318-477c-a4c1-3ece12744aa1",
   "metadata": {},
   "outputs": [],
   "source": [
    "iris = sns.load_dataset('iris')"
   ]
  },
  {
   "cell_type": "code",
   "execution_count": 4,
   "id": "a5f3342d-ca74-408b-8f13-df5ef10aa336",
   "metadata": {},
   "outputs": [],
   "source": [
    "import matplotlib.pyplot as plt"
   ]
  },
  {
   "cell_type": "code",
   "execution_count": 5,
   "id": "5c0737ab-1685-4788-8551-8560b3f98bff",
   "metadata": {},
   "outputs": [],
   "source": [
    "sns.set_style('darkgrid')"
   ]
  },
  {
   "cell_type": "code",
   "execution_count": 6,
   "id": "250b75ba-108c-4d2f-ad20-95345e625bee",
   "metadata": {},
   "outputs": [],
   "source": [
    "# fig=plt.figure(figsize=(15,5))\n",
    "# ax1=fig.add_subplot(1,2,1)\n",
    "# ax2=fig.add_subplot(1,2,2)\n",
    "\n",
    "# sns.regplot(x='age',\n",
    "#            y='fare',\n",
    "#            data=iris,\n",
    "#            ax=ax1,\n",
    "#            fit_reg=True)\n",
    "#             #회귀선 : 군집도가 모여있는 구간의 기울기\n",
    "\n",
    "# sns.regplot(x='age',\n",
    "#            y='fare',\n",
    "#            data=iris,\n",
    "#            ax=ax2,\n",
    "#            fit_reg=False)\n",
    "\n",
    "# plt.show()"
   ]
  },
  {
   "cell_type": "code",
   "execution_count": 7,
   "id": "58d744c0-7bdd-4498-a40a-e065f45118fd",
   "metadata": {},
   "outputs": [],
   "source": [
    "#test set을 만드는 작업\n",
    "#iloc메서드를 사용하여 열 구분\n",
    "#:초기 행부터 끝 행까지\n",
    "#:-1 처음 열부터 마지막 열 앞까지\n",
    "# -1 마지막 열까지\n",
    "x = iris.iloc[:,:-1]\n",
    "y = iris.iloc[:, -1]"
   ]
  },
  {
   "cell_type": "code",
   "execution_count": 8,
   "id": "03f15695-e58a-46e8-b012-9c4cfde423ee",
   "metadata": {},
   "outputs": [],
   "source": [
    "#사이킥런 머신러닝 도구 : 통계분야\n",
    "#train_test_split 방대한 데이터를 split클래스\n",
    "from sklearn.model_selection import train_test_split"
   ]
  },
  {
   "cell_type": "code",
   "execution_count": 9,
   "id": "4335aac1-104c-44b9-ba18-e2a59365685b",
   "metadata": {},
   "outputs": [
    {
     "name": "stdout",
     "output_type": "stream",
     "text": [
      "train data 개수 :  105\n",
      "test data 개수 :  45\n"
     ]
    }
   ],
   "source": [
    "#학습용 데이터 x값(범위)과 검증용 데이터y값(범위)를 저장하는 용도\n",
    "#독립변수, 종속변수\n",
    "train_x, test_x, train_y, test_y = train_test_split(x ,y ,\n",
    "                                                    test_size=0.3 ,\n",
    "                                                    random_state=1)\n",
    "print('train data 개수 : ',len(train_x))\n",
    "print('test data 개수 : ',len(test_x))"
   ]
  },
  {
   "cell_type": "code",
   "execution_count": 10,
   "id": "747f336f-823c-4421-b958-dcf03bf6152c",
   "metadata": {},
   "outputs": [],
   "source": [
    "#이미지분류작업하는 클래스\n",
    "from sklearn.tree import DecisionTreeClassifier"
   ]
  },
  {
   "cell_type": "code",
   "execution_count": 11,
   "id": "64c5b515-496c-471d-ba10-d8dd43dc9d1d",
   "metadata": {},
   "outputs": [],
   "source": [
    "#이미지 분류작업을 하되, 옵션값을 random_state=1로 준다\n",
    "dt_model = DecisionTreeClassifier(random_state=1)"
   ]
  },
  {
   "cell_type": "code",
   "execution_count": 12,
   "id": "67854b65-971d-4034-9ea1-8ffa3e5842a9",
   "metadata": {},
   "outputs": [
    {
     "data": {
      "text/html": [
       "<style>#sk-container-id-1 {color: black;background-color: white;}#sk-container-id-1 pre{padding: 0;}#sk-container-id-1 div.sk-toggleable {background-color: white;}#sk-container-id-1 label.sk-toggleable__label {cursor: pointer;display: block;width: 100%;margin-bottom: 0;padding: 0.3em;box-sizing: border-box;text-align: center;}#sk-container-id-1 label.sk-toggleable__label-arrow:before {content: \"▸\";float: left;margin-right: 0.25em;color: #696969;}#sk-container-id-1 label.sk-toggleable__label-arrow:hover:before {color: black;}#sk-container-id-1 div.sk-estimator:hover label.sk-toggleable__label-arrow:before {color: black;}#sk-container-id-1 div.sk-toggleable__content {max-height: 0;max-width: 0;overflow: hidden;text-align: left;background-color: #f0f8ff;}#sk-container-id-1 div.sk-toggleable__content pre {margin: 0.2em;color: black;border-radius: 0.25em;background-color: #f0f8ff;}#sk-container-id-1 input.sk-toggleable__control:checked~div.sk-toggleable__content {max-height: 200px;max-width: 100%;overflow: auto;}#sk-container-id-1 input.sk-toggleable__control:checked~label.sk-toggleable__label-arrow:before {content: \"▾\";}#sk-container-id-1 div.sk-estimator input.sk-toggleable__control:checked~label.sk-toggleable__label {background-color: #d4ebff;}#sk-container-id-1 div.sk-label input.sk-toggleable__control:checked~label.sk-toggleable__label {background-color: #d4ebff;}#sk-container-id-1 input.sk-hidden--visually {border: 0;clip: rect(1px 1px 1px 1px);clip: rect(1px, 1px, 1px, 1px);height: 1px;margin: -1px;overflow: hidden;padding: 0;position: absolute;width: 1px;}#sk-container-id-1 div.sk-estimator {font-family: monospace;background-color: #f0f8ff;border: 1px dotted black;border-radius: 0.25em;box-sizing: border-box;margin-bottom: 0.5em;}#sk-container-id-1 div.sk-estimator:hover {background-color: #d4ebff;}#sk-container-id-1 div.sk-parallel-item::after {content: \"\";width: 100%;border-bottom: 1px solid gray;flex-grow: 1;}#sk-container-id-1 div.sk-label:hover label.sk-toggleable__label {background-color: #d4ebff;}#sk-container-id-1 div.sk-serial::before {content: \"\";position: absolute;border-left: 1px solid gray;box-sizing: border-box;top: 0;bottom: 0;left: 50%;z-index: 0;}#sk-container-id-1 div.sk-serial {display: flex;flex-direction: column;align-items: center;background-color: white;padding-right: 0.2em;padding-left: 0.2em;position: relative;}#sk-container-id-1 div.sk-item {position: relative;z-index: 1;}#sk-container-id-1 div.sk-parallel {display: flex;align-items: stretch;justify-content: center;background-color: white;position: relative;}#sk-container-id-1 div.sk-item::before, #sk-container-id-1 div.sk-parallel-item::before {content: \"\";position: absolute;border-left: 1px solid gray;box-sizing: border-box;top: 0;bottom: 0;left: 50%;z-index: -1;}#sk-container-id-1 div.sk-parallel-item {display: flex;flex-direction: column;z-index: 1;position: relative;background-color: white;}#sk-container-id-1 div.sk-parallel-item:first-child::after {align-self: flex-end;width: 50%;}#sk-container-id-1 div.sk-parallel-item:last-child::after {align-self: flex-start;width: 50%;}#sk-container-id-1 div.sk-parallel-item:only-child::after {width: 0;}#sk-container-id-1 div.sk-dashed-wrapped {border: 1px dashed gray;margin: 0 0.4em 0.5em 0.4em;box-sizing: border-box;padding-bottom: 0.4em;background-color: white;}#sk-container-id-1 div.sk-label label {font-family: monospace;font-weight: bold;display: inline-block;line-height: 1.2em;}#sk-container-id-1 div.sk-label-container {text-align: center;}#sk-container-id-1 div.sk-container {/* jupyter's `normalize.less` sets `[hidden] { display: none; }` but bootstrap.min.css set `[hidden] { display: none !important; }` so we also need the `!important` here to be able to override the default hidden behavior on the sphinx rendered scikit-learn.org. See: https://github.com/scikit-learn/scikit-learn/issues/21755 */display: inline-block !important;position: relative;}#sk-container-id-1 div.sk-text-repr-fallback {display: none;}</style><div id=\"sk-container-id-1\" class=\"sk-top-container\"><div class=\"sk-text-repr-fallback\"><pre>DecisionTreeClassifier(random_state=1)</pre><b>In a Jupyter environment, please rerun this cell to show the HTML representation or trust the notebook. <br />On GitHub, the HTML representation is unable to render, please try loading this page with nbviewer.org.</b></div><div class=\"sk-container\" hidden><div class=\"sk-item\"><div class=\"sk-estimator sk-toggleable\"><input class=\"sk-toggleable__control sk-hidden--visually\" id=\"sk-estimator-id-1\" type=\"checkbox\" checked><label for=\"sk-estimator-id-1\" class=\"sk-toggleable__label sk-toggleable__label-arrow\">DecisionTreeClassifier</label><div class=\"sk-toggleable__content\"><pre>DecisionTreeClassifier(random_state=1)</pre></div></div></div></div></div>"
      ],
      "text/plain": [
       "DecisionTreeClassifier(random_state=1)"
      ]
     },
     "execution_count": 12,
     "metadata": {},
     "output_type": "execute_result"
    }
   ],
   "source": [
    "# 학습용 데이터 모두가져오기\n",
    "dt_model.fit(train_x, train_y)"
   ]
  },
  {
   "cell_type": "code",
   "execution_count": 13,
   "id": "af2fb15c-cc18-4cbc-b027-c064075c7ed0",
   "metadata": {},
   "outputs": [],
   "source": [
    "#머신러닝의 뉴럴엔진을 사용하여 분류모델 작업\n",
    "#뉴럴엔진 : 사람의 뇌 신경과 비슷하게 자극을 주면, 결과물이 출력되는 함수\n",
    "from sklearn.neural_network import MLPClassifier"
   ]
  },
  {
   "cell_type": "code",
   "execution_count": 14,
   "id": "29fbb162-ea21-494b-808b-4df05aa13067",
   "metadata": {},
   "outputs": [],
   "source": [
    "#MLPClassifier클래스를 사용하여 모델을 작성\n",
    "#히든 레이어 갯수는 2만개, 반복 500회 등등 옵션\n",
    "mlpt_model = MLPClassifier(hidden_layer_sizes=(100,200,50,20),\n",
    "                          max_iter=500,random_state=1)"
   ]
  },
  {
   "cell_type": "code",
   "execution_count": 15,
   "id": "9f9416a1-7810-4a9e-946f-23ead6f90f24",
   "metadata": {},
   "outputs": [
    {
     "data": {
      "text/html": [
       "<style>#sk-container-id-2 {color: black;background-color: white;}#sk-container-id-2 pre{padding: 0;}#sk-container-id-2 div.sk-toggleable {background-color: white;}#sk-container-id-2 label.sk-toggleable__label {cursor: pointer;display: block;width: 100%;margin-bottom: 0;padding: 0.3em;box-sizing: border-box;text-align: center;}#sk-container-id-2 label.sk-toggleable__label-arrow:before {content: \"▸\";float: left;margin-right: 0.25em;color: #696969;}#sk-container-id-2 label.sk-toggleable__label-arrow:hover:before {color: black;}#sk-container-id-2 div.sk-estimator:hover label.sk-toggleable__label-arrow:before {color: black;}#sk-container-id-2 div.sk-toggleable__content {max-height: 0;max-width: 0;overflow: hidden;text-align: left;background-color: #f0f8ff;}#sk-container-id-2 div.sk-toggleable__content pre {margin: 0.2em;color: black;border-radius: 0.25em;background-color: #f0f8ff;}#sk-container-id-2 input.sk-toggleable__control:checked~div.sk-toggleable__content {max-height: 200px;max-width: 100%;overflow: auto;}#sk-container-id-2 input.sk-toggleable__control:checked~label.sk-toggleable__label-arrow:before {content: \"▾\";}#sk-container-id-2 div.sk-estimator input.sk-toggleable__control:checked~label.sk-toggleable__label {background-color: #d4ebff;}#sk-container-id-2 div.sk-label input.sk-toggleable__control:checked~label.sk-toggleable__label {background-color: #d4ebff;}#sk-container-id-2 input.sk-hidden--visually {border: 0;clip: rect(1px 1px 1px 1px);clip: rect(1px, 1px, 1px, 1px);height: 1px;margin: -1px;overflow: hidden;padding: 0;position: absolute;width: 1px;}#sk-container-id-2 div.sk-estimator {font-family: monospace;background-color: #f0f8ff;border: 1px dotted black;border-radius: 0.25em;box-sizing: border-box;margin-bottom: 0.5em;}#sk-container-id-2 div.sk-estimator:hover {background-color: #d4ebff;}#sk-container-id-2 div.sk-parallel-item::after {content: \"\";width: 100%;border-bottom: 1px solid gray;flex-grow: 1;}#sk-container-id-2 div.sk-label:hover label.sk-toggleable__label {background-color: #d4ebff;}#sk-container-id-2 div.sk-serial::before {content: \"\";position: absolute;border-left: 1px solid gray;box-sizing: border-box;top: 0;bottom: 0;left: 50%;z-index: 0;}#sk-container-id-2 div.sk-serial {display: flex;flex-direction: column;align-items: center;background-color: white;padding-right: 0.2em;padding-left: 0.2em;position: relative;}#sk-container-id-2 div.sk-item {position: relative;z-index: 1;}#sk-container-id-2 div.sk-parallel {display: flex;align-items: stretch;justify-content: center;background-color: white;position: relative;}#sk-container-id-2 div.sk-item::before, #sk-container-id-2 div.sk-parallel-item::before {content: \"\";position: absolute;border-left: 1px solid gray;box-sizing: border-box;top: 0;bottom: 0;left: 50%;z-index: -1;}#sk-container-id-2 div.sk-parallel-item {display: flex;flex-direction: column;z-index: 1;position: relative;background-color: white;}#sk-container-id-2 div.sk-parallel-item:first-child::after {align-self: flex-end;width: 50%;}#sk-container-id-2 div.sk-parallel-item:last-child::after {align-self: flex-start;width: 50%;}#sk-container-id-2 div.sk-parallel-item:only-child::after {width: 0;}#sk-container-id-2 div.sk-dashed-wrapped {border: 1px dashed gray;margin: 0 0.4em 0.5em 0.4em;box-sizing: border-box;padding-bottom: 0.4em;background-color: white;}#sk-container-id-2 div.sk-label label {font-family: monospace;font-weight: bold;display: inline-block;line-height: 1.2em;}#sk-container-id-2 div.sk-label-container {text-align: center;}#sk-container-id-2 div.sk-container {/* jupyter's `normalize.less` sets `[hidden] { display: none; }` but bootstrap.min.css set `[hidden] { display: none !important; }` so we also need the `!important` here to be able to override the default hidden behavior on the sphinx rendered scikit-learn.org. See: https://github.com/scikit-learn/scikit-learn/issues/21755 */display: inline-block !important;position: relative;}#sk-container-id-2 div.sk-text-repr-fallback {display: none;}</style><div id=\"sk-container-id-2\" class=\"sk-top-container\"><div class=\"sk-text-repr-fallback\"><pre>MLPClassifier(hidden_layer_sizes=(100, 200, 50, 20), max_iter=500,\n",
       "              random_state=1)</pre><b>In a Jupyter environment, please rerun this cell to show the HTML representation or trust the notebook. <br />On GitHub, the HTML representation is unable to render, please try loading this page with nbviewer.org.</b></div><div class=\"sk-container\" hidden><div class=\"sk-item\"><div class=\"sk-estimator sk-toggleable\"><input class=\"sk-toggleable__control sk-hidden--visually\" id=\"sk-estimator-id-2\" type=\"checkbox\" checked><label for=\"sk-estimator-id-2\" class=\"sk-toggleable__label sk-toggleable__label-arrow\">MLPClassifier</label><div class=\"sk-toggleable__content\"><pre>MLPClassifier(hidden_layer_sizes=(100, 200, 50, 20), max_iter=500,\n",
       "              random_state=1)</pre></div></div></div></div></div>"
      ],
      "text/plain": [
       "MLPClassifier(hidden_layer_sizes=(100, 200, 50, 20), max_iter=500,\n",
       "              random_state=1)"
      ]
     },
     "execution_count": 15,
     "metadata": {},
     "output_type": "execute_result"
    }
   ],
   "source": [
    "#데이터를 학습(학습용 데이터 모두 가져오기)\n",
    "mlpt_model.fit(train_x, train_y)"
   ]
  },
  {
   "cell_type": "code",
   "execution_count": 16,
   "id": "42a0d816-3f3e-478e-9c9d-232f783cdb11",
   "metadata": {},
   "outputs": [
    {
     "data": {
      "text/plain": [
       "array(['virginica', 'setosa', 'setosa', 'setosa', 'versicolor', 'setosa',\n",
       "       'setosa', 'virginica', 'virginica', 'virginica', 'virginica',\n",
       "       'virginica', 'versicolor', 'virginica', 'versicolor', 'setosa',\n",
       "       'virginica', 'virginica', 'setosa', 'setosa', 'virginica',\n",
       "       'setosa', 'virginica', 'virginica', 'versicolor', 'versicolor',\n",
       "       'virginica', 'virginica', 'setosa', 'versicolor', 'versicolor',\n",
       "       'virginica', 'versicolor', 'virginica', 'versicolor', 'setosa',\n",
       "       'setosa', 'setosa', 'virginica', 'setosa', 'versicolor',\n",
       "       'virginica', 'virginica', 'setosa', 'setosa', 'versicolor',\n",
       "       'setosa', 'virginica', 'versicolor', 'virginica', 'virginica',\n",
       "       'versicolor', 'virginica', 'virginica', 'versicolor', 'setosa',\n",
       "       'versicolor', 'setosa', 'versicolor', 'versicolor', 'setosa',\n",
       "       'versicolor', 'setosa', 'setosa', 'virginica', 'virginica',\n",
       "       'virginica', 'setosa', 'setosa', 'versicolor', 'setosa',\n",
       "       'virginica', 'setosa', 'virginica', 'virginica', 'setosa',\n",
       "       'virginica', 'setosa', 'versicolor', 'setosa', 'versicolor',\n",
       "       'versicolor', 'setosa', 'setosa', 'versicolor', 'setosa',\n",
       "       'versicolor', 'versicolor', 'setosa', 'versicolor', 'versicolor',\n",
       "       'versicolor', 'versicolor', 'virginica', 'setosa', 'setosa',\n",
       "       'virginica', 'versicolor', 'virginica', 'versicolor', 'virginica',\n",
       "       'virginica', 'versicolor', 'virginica', 'setosa'], dtype=object)"
      ]
     },
     "execution_count": 16,
     "metadata": {},
     "output_type": "execute_result"
    }
   ],
   "source": [
    "\n",
    "dt_model.predict(train_x)"
   ]
  },
  {
   "cell_type": "code",
   "execution_count": 17,
   "id": "99da17a4-1824-4ef9-8bb2-5b3dabe5b234",
   "metadata": {},
   "outputs": [],
   "source": [
    "dt_pred_y = dt_model.predict(test_x)"
   ]
  },
  {
   "cell_type": "code",
   "execution_count": 18,
   "id": "0805da9b-8c30-493d-81e6-799a80e4d7fa",
   "metadata": {},
   "outputs": [
    {
     "data": {
      "text/html": [
       "<div>\n",
       "<style scoped>\n",
       "    .dataframe tbody tr th:only-of-type {\n",
       "        vertical-align: middle;\n",
       "    }\n",
       "\n",
       "    .dataframe tbody tr th {\n",
       "        vertical-align: top;\n",
       "    }\n",
       "\n",
       "    .dataframe thead th {\n",
       "        text-align: right;\n",
       "    }\n",
       "</style>\n",
       "<table border=\"1\" class=\"dataframe\">\n",
       "  <thead>\n",
       "    <tr style=\"text-align: right;\">\n",
       "      <th>col_0</th>\n",
       "      <th>setosa</th>\n",
       "      <th>versicolor</th>\n",
       "      <th>virginica</th>\n",
       "    </tr>\n",
       "    <tr>\n",
       "      <th>species</th>\n",
       "      <th></th>\n",
       "      <th></th>\n",
       "      <th></th>\n",
       "    </tr>\n",
       "  </thead>\n",
       "  <tbody>\n",
       "    <tr>\n",
       "      <th>setosa</th>\n",
       "      <td>14</td>\n",
       "      <td>0</td>\n",
       "      <td>0</td>\n",
       "    </tr>\n",
       "    <tr>\n",
       "      <th>versicolor</th>\n",
       "      <td>0</td>\n",
       "      <td>17</td>\n",
       "      <td>1</td>\n",
       "    </tr>\n",
       "    <tr>\n",
       "      <th>virginica</th>\n",
       "      <td>0</td>\n",
       "      <td>1</td>\n",
       "      <td>12</td>\n",
       "    </tr>\n",
       "  </tbody>\n",
       "</table>\n",
       "</div>"
      ],
      "text/plain": [
       "col_0       setosa  versicolor  virginica\n",
       "species                                  \n",
       "setosa          14           0          0\n",
       "versicolor       0          17          1\n",
       "virginica        0           1         12"
      ]
     },
     "execution_count": 18,
     "metadata": {},
     "output_type": "execute_result"
    }
   ],
   "source": [
    "#판다스 툴로 결과물 출력\n",
    "#테이블 모형으로 결과 그래프 출력\n",
    "import pandas as pd\n",
    "pd.crosstab(test_y,dt_pred_y)\n",
    "#y축은 예측\n",
    "#x축은 사실\n",
    "#ex) setosa라는 꽃으로 예측한 것이 정화가게 14개를 모두 맞췄다"
   ]
  },
  {
   "cell_type": "code",
   "execution_count": 19,
   "id": "ff00832c-5ff4-4b07-bbfb-1795e41e5ced",
   "metadata": {},
   "outputs": [
    {
     "data": {
      "text/plain": [
       "0.9555555555555556"
      ]
     },
     "execution_count": 19,
     "metadata": {},
     "output_type": "execute_result"
    }
   ],
   "source": [
    "#결과 예측능력 출력\n",
    "dt_model.score(test_x, test_y)"
   ]
  },
  {
   "cell_type": "code",
   "execution_count": 20,
   "id": "41a1f042-b00a-4475-8564-6a4fe5d47de5",
   "metadata": {},
   "outputs": [
    {
     "ename": "NameError",
     "evalue": "name 'mlp_model' is not defined",
     "output_type": "error",
     "traceback": [
      "\u001b[1;31m---------------------------------------------------------------------------\u001b[0m",
      "\u001b[1;31mNameError\u001b[0m                                 Traceback (most recent call last)",
      "Input \u001b[1;32mIn [20]\u001b[0m, in \u001b[0;36m<cell line: 1>\u001b[1;34m()\u001b[0m\n\u001b[1;32m----> 1\u001b[0m mlp_pred_y \u001b[38;5;241m=\u001b[39m \u001b[43mmlp_model\u001b[49m\u001b[38;5;241m.\u001b[39mpredict(test_x)\n",
      "\u001b[1;31mNameError\u001b[0m: name 'mlp_model' is not defined"
     ]
    }
   ],
   "source": [
    "mlp_pred_y = mlp_model.predict(test_x)"
   ]
  },
  {
   "cell_type": "code",
   "execution_count": null,
   "id": "1621668d-b95c-4eca-a822-cdf5e172a3b9",
   "metadata": {},
   "outputs": [],
   "source": [
    "#mlpClassifier 모델은 좀 더 정확하게 예측하는 결과 출력\n",
    "#분석 모델 알고리즘으로는 \n",
    "#treeClassifier보다 mlpClassifier가 더 좋음\n",
    "pd.crosstab(test_y,mlp_pred_y)"
   ]
  },
  {
   "cell_type": "code",
   "execution_count": null,
   "id": "1ec7ba4b-0a14-4986-a98b-f87fe55150f5",
   "metadata": {},
   "outputs": [],
   "source": [
    "mlp_model.score(test_x, test_y)"
   ]
  }
 ],
 "metadata": {
  "kernelspec": {
   "display_name": "Python 3 (ipykernel)",
   "language": "python",
   "name": "python3"
  },
  "language_info": {
   "codemirror_mode": {
    "name": "ipython",
    "version": 3
   },
   "file_extension": ".py",
   "mimetype": "text/x-python",
   "name": "python",
   "nbconvert_exporter": "python",
   "pygments_lexer": "ipython3",
   "version": "3.9.0"
  }
 },
 "nbformat": 4,
 "nbformat_minor": 5
}
