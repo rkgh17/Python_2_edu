{
 "cells": [
  {
   "cell_type": "code",
   "execution_count": 1,
   "id": "e5c0fbd0-2733-47f0-a1af-f90c74553209",
   "metadata": {},
   "outputs": [],
   "source": [
    "#계산기 로그 남기기\n",
    "import pandas as pd\n",
    "import datetime\n",
    "now=datetime.datetime.now()"
   ]
  },
  {
   "cell_type": "code",
   "execution_count": 2,
   "id": "9f9c5fec-14b9-41e3-9f26-dc97c4c711fd",
   "metadata": {},
   "outputs": [
    {
     "name": "stdout",
     "output_type": "stream",
     "text": [
      "       log      date\n",
      "0  20 * 20  20221012\n"
     ]
    }
   ],
   "source": [
    "exam_data = {'log' : ['20 * 20'],\n",
    "             'date' : ['20221012']}\n",
    "global df\n",
    "df = pd.DataFrame(exam_data)\n",
    "print(df)"
   ]
  },
  {
   "cell_type": "code",
   "execution_count": 35,
   "id": "89b0982f-766a-4776-9ed8-0e2e91d6a3eb",
   "metadata": {},
   "outputs": [],
   "source": [
    "def funcInsert(input_log) :\n",
    "    global df\n",
    "    df.loc[len(df)] = [input_log, now]"
   ]
  },
  {
   "cell_type": "code",
   "execution_count": 41,
   "id": "85e2ad7c-7324-4890-8ae6-53fc1cf903e3",
   "metadata": {},
   "outputs": [],
   "source": [
    "def funcAdd(num1, num2) :\n",
    "    strResult = str(num1)+'+'+str(num2)\n",
    "    return strResult"
   ]
  },
  {
   "cell_type": "code",
   "execution_count": 32,
   "id": "8ffa5041-8184-4fad-9dd0-44445b8b615a",
   "metadata": {},
   "outputs": [],
   "source": [
    "def funcMin(num1, num2) :\n",
    "    return strResult"
   ]
  },
  {
   "cell_type": "code",
   "execution_count": 33,
   "id": "a1503591-6fe9-4a1a-a918-0b022c39d338",
   "metadata": {},
   "outputs": [],
   "source": [
    "def funcSub(num1, num2) :\n",
    "    return strResult"
   ]
  },
  {
   "cell_type": "code",
   "execution_count": 34,
   "id": "b0300b34-df63-4bb8-8bff-5178bf094e9c",
   "metadata": {},
   "outputs": [],
   "source": [
    "def funcDiv(num1, num2) :\n",
    "    return strResult"
   ]
  },
  {
   "cell_type": "code",
   "execution_count": 5,
   "id": "ba21f536-5722-4227-ab01-73bad8eb3263",
   "metadata": {},
   "outputs": [],
   "source": [
    "#1. 날짜 자동생성\n",
    "#2. 계산하는 메서드를 만들고, 계산 내용을 funcInsert와 연동할 수 있는 아이디어 구현"
   ]
  },
  {
   "cell_type": "code",
   "execution_count": 39,
   "id": "91ae409c-ed2b-4244-a052-c964ce727f11",
   "metadata": {},
   "outputs": [],
   "source": [
    "funcInsert(funcAdd(10,30))"
   ]
  },
  {
   "cell_type": "code",
   "execution_count": 40,
   "id": "d82a23bc-a5eb-4566-a387-7a98d0ada131",
   "metadata": {},
   "outputs": [
    {
     "name": "stdout",
     "output_type": "stream",
     "text": [
      "       log                        date\n",
      "0  20 * 20                    20221012\n",
      "1  40 * 40  2022-10-12 10:39:09.950073\n",
      "2    10+30  2022-10-12 10:39:09.950073\n"
     ]
    }
   ],
   "source": [
    "print(df)"
   ]
  }
 ],
 "metadata": {
  "kernelspec": {
   "display_name": "Python 3 (ipykernel)",
   "language": "python",
   "name": "python3"
  },
  "language_info": {
   "codemirror_mode": {
    "name": "ipython",
    "version": 3
   },
   "file_extension": ".py",
   "mimetype": "text/x-python",
   "name": "python",
   "nbconvert_exporter": "python",
   "pygments_lexer": "ipython3",
   "version": "3.9.0"
  }
 },
 "nbformat": 4,
 "nbformat_minor": 5
}
