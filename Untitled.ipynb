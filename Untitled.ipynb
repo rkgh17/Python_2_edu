{
 "cells": [
  {
   "cell_type": "code",
   "execution_count": 1,
   "id": "f229811c-fc15-41ac-bea9-ba8253bf5391",
   "metadata": {},
   "outputs": [
    {
     "name": "stdout",
     "output_type": "stream",
     "text": [
      "hello world\n"
     ]
    }
   ],
   "source": [
    "print(\"hello world\")"
   ]
  },
  {
   "cell_type": "code",
   "execution_count": 2,
   "id": "0837aabb-2a74-4cb0-adaf-c1e6eb4a6757",
   "metadata": {},
   "outputs": [
    {
     "name": "stdout",
     "output_type": "stream",
     "text": [
      "황지훈\n"
     ]
    }
   ],
   "source": [
    "#자바 : 정적 타입_ 개발자가 타입을 명시함\n",
    "#파이썬 : 동적 타입_ 메모리에 할당된 값을 보고 언어가 유추하여 타입 지정\n",
    "\n",
    "name='황지훈'\n",
    "print(name)"
   ]
  },
  {
   "cell_type": "code",
   "execution_count": 6,
   "id": "d3c6465b-2594-44a1-8142-683247675b3b",
   "metadata": {},
   "outputs": [
    {
     "name": "stdout",
     "output_type": "stream",
     "text": [
      "human 3class 황지훈\n"
     ]
    }
   ],
   "source": [
    "class1 = \"human 3class\"\n",
    "print(class1 + ' ' +name)"
   ]
  },
  {
   "cell_type": "code",
   "execution_count": 8,
   "id": "e8e764b6-2d66-4c08-96ca-959f10e50587",
   "metadata": {},
   "outputs": [
    {
     "name": "stdout",
     "output_type": "stream",
     "text": [
      "<class 'pandas.core.series.Series'>\n",
      "\n",
      "\n",
      "a       1\n",
      "b       2\n",
      "c       3\n",
      "황지훈    학생\n",
      "dtype: object\n"
     ]
    }
   ],
   "source": [
    "#import : 라이브러리 pandas를 가져다 쓰겠다\n",
    "import pandas as pd # as = 별칭\n",
    "\n",
    "#변수 : 변하는 수 <> 상수 : 변하지 않는 수\n",
    "#dict_data 변수 할당\n",
    "#키 값으로 이루어진 dictionary\n",
    "dict_data={'a':1,'b':2,'c':3,'황지훈':'학생'} # a호출 1\n",
    "\n",
    "#pd의 Series 메서드 실행 -> 인자값은(dict_data)\n",
    "sr = pd.Series(dict_data)\n",
    "print(type(sr))\n",
    "print('\\n')\n",
    "print(sr)"
   ]
  },
  {
   "cell_type": "code",
   "execution_count": 9,
   "id": "19eaa701-ae50-4e56-8a22-c40a65115c0a",
   "metadata": {},
   "outputs": [
    {
     "name": "stdout",
     "output_type": "stream",
     "text": [
      "0    2019-01-02\n",
      "1          3.14\n",
      "2           ABC\n",
      "3           100\n",
      "4          True\n",
      "dtype: object\n"
     ]
    }
   ],
   "source": [
    "#참조타입 : 변수와 변수값을 연결하는 타입 <> 기본타입\n",
    "#sr이라는 변수이름의 원래 데이터는 dict_data\n",
    "list_data = ['2019-01-02',3.14,'ABC',100,True]\n",
    "sr=pd.Series(list_data)\n",
    "print(sr)"
   ]
  },
  {
   "cell_type": "code",
   "execution_count": 12,
   "id": "683f1267-92e3-4e40-b85a-6639308df80a",
   "metadata": {},
   "outputs": [
    {
     "name": "stdout",
     "output_type": "stream",
     "text": [
      "나의 이름은 xxx\n"
     ]
    }
   ],
   "source": [
    "#학생의 개인정보를 저장하는 딕셔너리 배열을 만들고\n",
    "#(이름, id, pw, 성별)\n",
    "#그중에 이름을 출력하는 print\n",
    "\n",
    "#{}중괄호 : map (key, value)\n",
    "# example = {'key':value}\n",
    "\n",
    "#[]대괄호 : 배열\n",
    "# example = [1, 2, 3, 4 ... ]\n",
    "std = {'name':'aaa','id':'aaa','pw':'xxx','gender':'F'}\n",
    "\n",
    "# 향상된 반복문\n",
    "# 자바> for(String item : stringArray)\n",
    "# 기본 반복문과 동일하나, 배열 처음부터 끝까지 모두 조회를 할 때 사용\n",
    "# 파이썬> item in itemArray\n",
    "if 'name' in std:\n",
    "    print('나의 이름은 '+std['name'])\n",
    "else:\n",
    "    print('이름없음')"
   ]
  },
  {
   "cell_type": "code",
   "execution_count": 15,
   "id": "ef4c501e-f55b-4c38-a46f-0e9ddf305f5a",
   "metadata": {},
   "outputs": [
    {
     "name": "stdout",
     "output_type": "stream",
     "text": [
      "dict_keys(['june', 'hello', 'world'])\n",
      "\n",
      "june : 12\n",
      "hello : 22\n",
      "world : 33\n"
     ]
    }
   ],
   "source": [
    "#key이용\n",
    "some_dict = {'june' : 12, 'hello' : 22, 'world':33}\n",
    "print(some_dict.keys())\n",
    "print()\n",
    "\n",
    "for key in some_dict.keys():\n",
    "    print(key, ':' , some_dict[key])"
   ]
  },
  {
   "cell_type": "code",
   "execution_count": 17,
   "id": "0f7ad5f4-559a-45b6-b2e9-af95f7993c85",
   "metadata": {},
   "outputs": [
    {
     "name": "stdout",
     "output_type": "stream",
     "text": [
      "june : 12\n",
      "hello : 22\n",
      "world : 33\n"
     ]
    }
   ],
   "source": [
    "#items 이용\n",
    "for key, value in some_dict.items():\n",
    "    print(key, ':' , value)"
   ]
  },
  {
   "cell_type": "code",
   "execution_count": 22,
   "id": "88f8a35a-ed68-4cf6-88c0-494fc0b50eae",
   "metadata": {},
   "outputs": [
    {
     "name": "stdout",
     "output_type": "stream",
     "text": [
      "    나이 성별   학교\n",
      "준서  15  남  덕영중\n",
      "예은  17  여  수리중\n",
      "\n",
      "Index(['준서', '예은'], dtype='object')\n",
      "\n",
      "Index(['나이', '성별', '학교'], dtype='object')\n"
     ]
    }
   ],
   "source": [
    "#데이터 프레임\n",
    "df = pd.DataFrame([[15,'남','덕영중'],[17,'여','수리중']],\n",
    "                 index=['준서','예은'],\n",
    "                 columns=['나이','성별','학교'])\n",
    "print(df)\n",
    "print()\n",
    "print(df.index)\n",
    "print()\n",
    "print(df.columns)"
   ]
  },
  {
   "cell_type": "code",
   "execution_count": 24,
   "id": "185d96f2-c02a-4ad2-b600-e09325b93fc3",
   "metadata": {},
   "outputs": [
    {
     "name": "stdout",
     "output_type": "stream",
     "text": [
      "    수학  영어   음악   체육\n",
      "서준  90  98   85  100\n",
      "우현  80  89   95   90\n",
      "인아  70  95  100   90\n",
      "\n",
      "    수학  영어   음악   체육\n",
      "서준  90  98   85  100\n",
      "인아  70  95  100   90\n",
      "\n",
      "    수학  영어  음악   체육\n",
      "서준  90  98  85  100\n"
     ]
    },
    {
     "name": "stderr",
     "output_type": "stream",
     "text": [
      "C:\\Users\\h\\AppData\\Local\\Temp\\ipykernel_10392\\1683253185.py:7: SettingWithCopyWarning: \n",
      "A value is trying to be set on a copy of a slice from a DataFrame\n",
      "\n",
      "See the caveats in the documentation: https://pandas.pydata.org/pandas-docs/stable/user_guide/indexing.html#returning-a-view-versus-a-copy\n",
      "  df2.drop('우현',inplace=True)\n",
      "C:\\Users\\h\\AppData\\Local\\Temp\\ipykernel_10392\\1683253185.py:12: SettingWithCopyWarning: \n",
      "A value is trying to be set on a copy of a slice from a DataFrame\n",
      "\n",
      "See the caveats in the documentation: https://pandas.pydata.org/pandas-docs/stable/user_guide/indexing.html#returning-a-view-versus-a-copy\n",
      "  df3.drop(['우현','인아'],axis=0, inplace=True)\n"
     ]
    }
   ],
   "source": [
    "exam_data={'수학':[90, 80, 70],'영어':[98, 89, 95],'음악':[85, 95, 100],'체육':[100, 90, 90]}\n",
    "df=pd.DataFrame(exam_data, index=['서준','우현','인아'])\n",
    "print(df)\n",
    "print()\n",
    "\n",
    "df2=df[:]\n",
    "df2.drop('우현',inplace=True)\n",
    "print(df2)\n",
    "print()\n",
    "\n",
    "df3=df[:]\n",
    "df3.drop(['우현','인아'],axis=0, inplace=True)\n",
    "print(df3)"
   ]
  },
  {
   "cell_type": "code",
   "execution_count": 26,
   "id": "edd5e7d0-71ac-4aea-a250-d45708def66c",
   "metadata": {},
   "outputs": [
    {
     "name": "stdout",
     "output_type": "stream",
     "text": [
      "   이름  수학  영어   음악   체육\n",
      "0  서준  90  98   85  100\n",
      "1  우현  80  89   95   90\n",
      "2  인아  70  95  100   90\n",
      "\n",
      "   이름  수학  영어   음악   체육  국어\n",
      "0  서준  90  98   85  100  80\n",
      "1  우현  80  89   95   90  80\n",
      "2  인아  70  95  100   90  80\n"
     ]
    }
   ],
   "source": [
    "exam_data={'이름':['서준','우현','인아'],\n",
    "           '수학':[90, 80, 70],\n",
    "           '영어':[98, 89, 95],\n",
    "           '음악':[85, 95, 100],\n",
    "           '체육':[100, 90, 90]}\n",
    "df=pd.DataFrame(exam_data)\n",
    "print(df)\n",
    "print()\n",
    "\n",
    "df['국어']=80\n",
    "print(df)"
   ]
  },
  {
   "cell_type": "code",
   "execution_count": 46,
   "id": "bd210b92-12ed-400b-b48a-cb1357721151",
   "metadata": {},
   "outputs": [
    {
     "name": "stdout",
     "output_type": "stream",
     "text": [
      "   이름  수학  영어   음악   체육\n",
      "0  서준  90  98   85  100\n",
      "1  우현  80  89   95   90\n",
      "2  인아  70  95  100   90\n",
      "\n",
      "   이름  수학  영어   음악   체육\n",
      "0  서준  90  98   85  100\n",
      "1  우현  80  89   95   90\n",
      "2  인아  70  95  100   90\n",
      "3   0   0   0    0    0\n",
      "\n",
      "   이름  수학  영어   음악   체육\n",
      "0  서준  90  98   85  100\n",
      "1  우현  80  89   95   90\n",
      "2  인아  70  95  100   90\n",
      "3   0   0   0    0    0\n",
      "4  동규  90  80   70   60\n",
      "\n",
      "    이름  수학  영어   음악   체육\n",
      "0   서준  90  98   85  100\n",
      "1   우현  80  89   95   90\n",
      "2   인아  70  95  100   90\n",
      "3    0   0   0    0    0\n",
      "4   동규  90  80   70   60\n",
      "행5   0   0   0    0    0\n"
     ]
    }
   ],
   "source": [
    "exam_data={'이름':['서준','우현','인아'],\n",
    "           '수학':[90, 80, 70],\n",
    "           '영어':[98, 89, 95],\n",
    "           '음악':[85, 95, 100],\n",
    "           '체육':[100, 90, 90]}\n",
    "df=pd.DataFrame(exam_data)\n",
    "print(df)\n",
    "print()\n",
    "\n",
    "#새로운 행 추가 - 같은 원소 값 입력\n",
    "df.loc[3]=0\n",
    "print(df)\n",
    "#df.loc[len(df)]=['동규',90,80,70,60]\n",
    "#자바는 고정, 가변 배열이 나누어진 반면 df[3]의 경우 고정배열로 한정된 메모리 범위 안에서 값을 추가\n",
    "#df.add[3]의 경우 가변배열로 마지막 칸 이후에 추가적으로 값 추가\n",
    "\n",
    "#반면 파이썬의 데이터프레임은 바로 배열 번호를 작성하면 자유롭게 추가 가능\n",
    "print()\n",
    "\n",
    "#새로운 행 추가 - 원소 값 여러 개의 배열 입력\n",
    "df.loc[4] = ['동규',90,80,70,60]\n",
    "print(df)\n",
    "print()\n",
    "\n",
    "#새로운 행 추가 - 기존 행 복사\n",
    "df.loc['행5']=df.loc[3]\n",
    "print(df)"
   ]
  },
  {
   "cell_type": "code",
   "execution_count": 51,
   "id": "d2217361-b34f-432e-a5d6-a89dfb93d7bb",
   "metadata": {},
   "outputs": [
    {
     "name": "stdout",
     "output_type": "stream",
     "text": [
      "    수학  영어   음악  체육\n",
      "이름                 \n",
      "우현  80  89   95  90\n",
      "인아  70  95  100  90\n",
      "0    0   0    0   0\n",
      "동규  90  80   70  60\n",
      "0    0   0    0   0\n",
      "\n"
     ]
    }
   ],
   "source": [
    "df.set_index('이름',inplace=True)\n",
    "print(df)\n",
    "print()"
   ]
  },
  {
   "cell_type": "code",
   "execution_count": 31,
   "id": "18fc6573-0a76-431b-9bad-b5586996e790",
   "metadata": {},
   "outputs": [
    {
     "name": "stdout",
     "output_type": "stream",
     "text": [
      "    수학  영어   음악   체육\n",
      "이름                  \n",
      "서준  90  98   85  100\n",
      "우현  80  89   95   80\n",
      "인아  70  95  100   90\n",
      "0    0   0    0    0\n",
      "동규  90  80   70   60\n",
      "0    0   0    0    0\n"
     ]
    }
   ],
   "source": [
    "df.iloc[1][3]=80\n",
    "print(df)"
   ]
  },
  {
   "cell_type": "code",
   "execution_count": 52,
   "id": "5e650ecc-4b12-4d85-a0a4-e57845cd4d18",
   "metadata": {},
   "outputs": [],
   "source": [
    "df.drop(0,inplace=True)"
   ]
  },
  {
   "cell_type": "code",
   "execution_count": 53,
   "id": "2f2dab6f-b222-4ed6-adc5-5fb4e002e0e4",
   "metadata": {},
   "outputs": [
    {
     "name": "stdout",
     "output_type": "stream",
     "text": [
      "    수학  영어   음악  체육\n",
      "이름                 \n",
      "우현  80  89   95  90\n",
      "인아  70  95  100  90\n",
      "동규  90  80   70  60\n"
     ]
    }
   ],
   "source": [
    "print(df)"
   ]
  },
  {
   "cell_type": "code",
   "execution_count": 44,
   "id": "5f757f2e-dd33-470e-9da4-ad94b8424f53",
   "metadata": {},
   "outputs": [
    {
     "name": "stdout",
     "output_type": "stream",
     "text": [
      "<bound method DataFrame.transpose of     수학  영어   음악   체육\n",
      "이름                  \n",
      "서준  90  98   85  100\n",
      "우현  80  89   95   80\n",
      "인아  70  95  100   90\n",
      "동규  90  80   70   60>\n"
     ]
    }
   ],
   "source": [
    "# df = df.transpose()\n",
    "print(df)\n",
    "#df = df.T : 클래스로 전치행렬\n",
    "#파이썬은 메서드를 사용하여 데이터 처리하는 것이 암묵적 룰\n"
   ]
  },
  {
   "cell_type": "code",
   "execution_count": null,
   "id": "79698d2a-d489-4289-8fb0-1f2420503df7",
   "metadata": {},
   "outputs": [],
   "source": [
    "#데이터프레임은 2중배열로 column과 row로 구성되어 있다\n",
    "\n",
    "#df.loc[위치] : 튜플 추가\n",
    "#drop : 튜플(row) 삭제\n",
    "#set_index : 바꾸기\n",
    "#transpose() : 행 렬 바꾸기"
   ]
  },
  {
   "cell_type": "code",
   "execution_count": null,
   "id": "44c2ba1e-b8e2-4593-8f1b-27728d7c75b3",
   "metadata": {},
   "outputs": [],
   "source": [
    "#학생 회원의 정보를 담는 데이터프레임을 만들고\n",
    "#추가하는 메서드, 삭제하는 메서드, 변경하는 메서드\n",
    "#만들어서 활용하는 코드를 자유롭게 만드시오\n",
    "\n",
    "#ex) 이름, 학번, 성별, 입학날짜, 기타사항..\n",
    "#loc[length()],drop,set_index() 컬럼을(데이터 프레임)만들고 def메서드를 3개 만들어 실해나는 코드 작성\n",
    "#SOLID원칙에서 하나의 메서드는 하나의 기능만 실행가능하게 만듬"
   ]
  },
  {
   "cell_type": "code",
   "execution_count": 276,
   "id": "5f7a7514-f638-48be-b94e-e47b12251733",
   "metadata": {},
   "outputs": [],
   "source": [
    "std = pd.DataFrame(columns=['이름','학번', '성별', '입학날짜', '기타사항'])"
   ]
  },
  {
   "cell_type": "code",
   "execution_count": 273,
   "id": "65c0d95b-aacc-4f3e-b6f6-cf3e59ca6f54",
   "metadata": {},
   "outputs": [],
   "source": [
    "def newStd(name,sc,gender,day,ex):\n",
    "    global std\n",
    "    # if(len(std)==0):\n",
    "    #     std.loc[len(std)] = [name,sc, gender, day, ex]\n",
    "    #     std.set_index('이름')\n",
    "    # else:\n",
    "    std.loc[len(std)] = [name,sc, gender, day, ex]"
   ]
  },
  {
   "cell_type": "code",
   "execution_count": 270,
   "id": "7f84c9e6-cad0-4879-beba-7d2f23ae8699",
   "metadata": {},
   "outputs": [],
   "source": [
    "def delStd(name):\n",
    "    global std\n",
    "    std=std.loc[std.이름!=name]"
   ]
  },
  {
   "cell_type": "code",
   "execution_count": 277,
   "id": "d3d441a5-c062-49bf-940b-213705234d1c",
   "metadata": {},
   "outputs": [
    {
     "name": "stdout",
     "output_type": "stream",
     "text": [
      "Empty DataFrame\n",
      "Columns: [이름, 학번, 성별, 입학날짜, 기타사항]\n",
      "Index: []\n"
     ]
    },
    {
     "data": {
      "text/plain": [
       "0"
      ]
     },
     "execution_count": 277,
     "metadata": {},
     "output_type": "execute_result"
    }
   ],
   "source": [
    "print(std)\n",
    "len(std)"
   ]
  },
  {
   "cell_type": "code",
   "execution_count": 278,
   "id": "e5475067-4829-4020-be4d-615b04efd649",
   "metadata": {},
   "outputs": [
    {
     "name": "stdout",
     "output_type": "stream",
     "text": [
      "    이름 학번 성별      입학날짜 기타사항\n",
      "0  황지훈  1  남  20221011   없음\n"
     ]
    }
   ],
   "source": [
    "newStd('황지훈','1','남','20221011','없음')\n",
    "print(std)"
   ]
  },
  {
   "cell_type": "code",
   "execution_count": 281,
   "id": "72f4612d-a930-41fd-8e6c-5c87a2f21278",
   "metadata": {},
   "outputs": [
    {
     "name": "stdout",
     "output_type": "stream",
     "text": [
      "    이름 학번 성별      입학날짜 기타사항\n",
      "0  황지훈  1  남  20221011   없음\n",
      "1  황혜린  1  남  20221011   없음\n"
     ]
    }
   ],
   "source": [
    "newStd('황혜린','2','여','20221010','없음')\n",
    "print(std)"
   ]
  },
  {
   "cell_type": "code",
   "execution_count": 280,
   "id": "8b70a9ef-306e-44f4-821a-c5823a08f170",
   "metadata": {},
   "outputs": [
    {
     "data": {
      "text/html": [
       "<div>\n",
       "<style scoped>\n",
       "    .dataframe tbody tr th:only-of-type {\n",
       "        vertical-align: middle;\n",
       "    }\n",
       "\n",
       "    .dataframe tbody tr th {\n",
       "        vertical-align: top;\n",
       "    }\n",
       "\n",
       "    .dataframe thead th {\n",
       "        text-align: right;\n",
       "    }\n",
       "</style>\n",
       "<table border=\"1\" class=\"dataframe\">\n",
       "  <thead>\n",
       "    <tr style=\"text-align: right;\">\n",
       "      <th></th>\n",
       "      <th>이름</th>\n",
       "      <th>학번</th>\n",
       "      <th>성별</th>\n",
       "      <th>입학날짜</th>\n",
       "      <th>기타사항</th>\n",
       "    </tr>\n",
       "  </thead>\n",
       "  <tbody>\n",
       "    <tr>\n",
       "      <th>0</th>\n",
       "      <td>황지훈</td>\n",
       "      <td>1</td>\n",
       "      <td>남</td>\n",
       "      <td>20221011</td>\n",
       "      <td>없음</td>\n",
       "    </tr>\n",
       "  </tbody>\n",
       "</table>\n",
       "</div>"
      ],
      "text/plain": [
       "    이름 학번 성별      입학날짜 기타사항\n",
       "0  황지훈  1  남  20221011   없음"
      ]
     },
     "execution_count": 280,
     "metadata": {},
     "output_type": "execute_result"
    }
   ],
   "source": [
    "delStd('황혜린')\n",
    "std"
   ]
  },
  {
   "cell_type": "code",
   "execution_count": 269,
   "id": "bc3d3fdb-2d84-4487-b059-0f2dcdc87cc5",
   "metadata": {},
   "outputs": [
    {
     "data": {
      "text/html": [
       "<div>\n",
       "<style scoped>\n",
       "    .dataframe tbody tr th:only-of-type {\n",
       "        vertical-align: middle;\n",
       "    }\n",
       "\n",
       "    .dataframe tbody tr th {\n",
       "        vertical-align: top;\n",
       "    }\n",
       "\n",
       "    .dataframe thead th {\n",
       "        text-align: right;\n",
       "    }\n",
       "</style>\n",
       "<table border=\"1\" class=\"dataframe\">\n",
       "  <thead>\n",
       "    <tr style=\"text-align: right;\">\n",
       "      <th></th>\n",
       "      <th>이름</th>\n",
       "      <th>학번</th>\n",
       "      <th>성별</th>\n",
       "      <th>입학날짜</th>\n",
       "      <th>기타사항</th>\n",
       "    </tr>\n",
       "  </thead>\n",
       "  <tbody>\n",
       "    <tr>\n",
       "      <th>1</th>\n",
       "      <td>황혜린</td>\n",
       "      <td>1</td>\n",
       "      <td>남</td>\n",
       "      <td>20221011</td>\n",
       "      <td>없음</td>\n",
       "    </tr>\n",
       "  </tbody>\n",
       "</table>\n",
       "</div>"
      ],
      "text/plain": [
       "    이름 학번 성별      입학날짜 기타사항\n",
       "1  황혜린  1  남  20221011   없음"
      ]
     },
     "execution_count": 269,
     "metadata": {},
     "output_type": "execute_result"
    }
   ],
   "source": [
    "std.loc[std.이름!='황지훈']"
   ]
  },
  {
   "cell_type": "code",
   "execution_count": 254,
   "id": "a71b5999-1a54-4858-b36d-dfe488068bb4",
   "metadata": {},
   "outputs": [],
   "source": [
    "std=std.loc[std.이름!='황지훈']"
   ]
  },
  {
   "cell_type": "code",
   "execution_count": 257,
   "id": "9de666f3-343a-41ea-a881-9c6e5cfd41f3",
   "metadata": {},
   "outputs": [
    {
     "data": {
      "text/html": [
       "<div>\n",
       "<style scoped>\n",
       "    .dataframe tbody tr th:only-of-type {\n",
       "        vertical-align: middle;\n",
       "    }\n",
       "\n",
       "    .dataframe tbody tr th {\n",
       "        vertical-align: top;\n",
       "    }\n",
       "\n",
       "    .dataframe thead th {\n",
       "        text-align: right;\n",
       "    }\n",
       "</style>\n",
       "<table border=\"1\" class=\"dataframe\">\n",
       "  <thead>\n",
       "    <tr style=\"text-align: right;\">\n",
       "      <th></th>\n",
       "      <th>이름</th>\n",
       "      <th>학번</th>\n",
       "      <th>성별</th>\n",
       "      <th>입학날짜</th>\n",
       "      <th>기타사항</th>\n",
       "    </tr>\n",
       "  </thead>\n",
       "  <tbody>\n",
       "    <tr>\n",
       "      <th>1</th>\n",
       "      <td>황지훈</td>\n",
       "      <td>1</td>\n",
       "      <td>남</td>\n",
       "      <td>20221011</td>\n",
       "      <td>없음</td>\n",
       "    </tr>\n",
       "  </tbody>\n",
       "</table>\n",
       "</div>"
      ],
      "text/plain": [
       "    이름 학번 성별      입학날짜 기타사항\n",
       "1  황지훈  1  남  20221011   없음"
      ]
     },
     "execution_count": 257,
     "metadata": {},
     "output_type": "execute_result"
    }
   ],
   "source": [
    "std"
   ]
  },
  {
   "cell_type": "code",
   "execution_count": 210,
   "id": "15250383-6b33-442b-aed9-03ea2beeaeeb",
   "metadata": {},
   "outputs": [],
   "source": [
    "exam_data={'이름':['서준','우현','인아'],\n",
    "           '수학':[90, 80, 70],\n",
    "           '영어':[98, 89, 95],\n",
    "           '음악':[85, 95, 100],\n",
    "           '체육':[100, 90, 90]}\n",
    "global ef\n",
    "ef=pd.DataFrame(exam_data)"
   ]
  },
  {
   "cell_type": "code",
   "execution_count": 195,
   "id": "40c263f1-c261-4b51-a51d-69ca1853eed0",
   "metadata": {},
   "outputs": [],
   "source": [
    "def funcInsert(name,num1,num2,num3,num4):\n",
    "    global ef\n",
    "    ef.loc[len(df)] = [name,num1,num2,num3,num4]\n",
    "    #ef.append(data_set, ignore_index=True)"
   ]
  },
  {
   "cell_type": "code",
   "execution_count": 206,
   "id": "73e677b0-88ce-4340-aafc-c8b9c9bfe4b8",
   "metadata": {},
   "outputs": [],
   "source": [
    "def funcUpdate(name, num1, num2, num3,num4):\n",
    "    global ef\n",
    "    ef.loc[ef.이름 == name, ('수학','영어','음악','체육')] = (num1,num2,num3,num4)"
   ]
  },
  {
   "cell_type": "code",
   "execution_count": 225,
   "id": "900e8e45-5247-4791-a38c-11e73e77b892",
   "metadata": {},
   "outputs": [],
   "source": [
    "def funcDelete(name):\n",
    "    global ef\n",
    "    ef=ef.loc[ef.이름!=name]\n",
    "    #해싱값을 찾아라? 더 빠르다"
   ]
  },
  {
   "cell_type": "code",
   "execution_count": 214,
   "id": "0c4bf7fc-54f8-4f6d-a760-a7e30f099a30",
   "metadata": {},
   "outputs": [],
   "source": [
    "funcInsert('지훈',0,0,0,0)\n",
    "ef"
   ]
  },
  {
   "cell_type": "code",
   "execution_count": 215,
   "id": "f84a178a-c4de-4480-b035-9bd19e1a59a5",
   "metadata": {},
   "outputs": [
    {
     "data": {
      "text/html": [
       "<div>\n",
       "<style scoped>\n",
       "    .dataframe tbody tr th:only-of-type {\n",
       "        vertical-align: middle;\n",
       "    }\n",
       "\n",
       "    .dataframe tbody tr th {\n",
       "        vertical-align: top;\n",
       "    }\n",
       "\n",
       "    .dataframe thead th {\n",
       "        text-align: right;\n",
       "    }\n",
       "</style>\n",
       "<table border=\"1\" class=\"dataframe\">\n",
       "  <thead>\n",
       "    <tr style=\"text-align: right;\">\n",
       "      <th></th>\n",
       "      <th>이름</th>\n",
       "      <th>수학</th>\n",
       "      <th>영어</th>\n",
       "      <th>음악</th>\n",
       "      <th>체육</th>\n",
       "    </tr>\n",
       "  </thead>\n",
       "  <tbody>\n",
       "    <tr>\n",
       "      <th>0</th>\n",
       "      <td>서준</td>\n",
       "      <td>90</td>\n",
       "      <td>98</td>\n",
       "      <td>85</td>\n",
       "      <td>100</td>\n",
       "    </tr>\n",
       "    <tr>\n",
       "      <th>1</th>\n",
       "      <td>우현</td>\n",
       "      <td>80</td>\n",
       "      <td>89</td>\n",
       "      <td>95</td>\n",
       "      <td>90</td>\n",
       "    </tr>\n",
       "    <tr>\n",
       "      <th>2</th>\n",
       "      <td>인아</td>\n",
       "      <td>70</td>\n",
       "      <td>95</td>\n",
       "      <td>100</td>\n",
       "      <td>90</td>\n",
       "    </tr>\n",
       "    <tr>\n",
       "      <th>4</th>\n",
       "      <td>지훈</td>\n",
       "      <td>0</td>\n",
       "      <td>0</td>\n",
       "      <td>0</td>\n",
       "      <td>1</td>\n",
       "    </tr>\n",
       "  </tbody>\n",
       "</table>\n",
       "</div>"
      ],
      "text/plain": [
       "   이름  수학  영어   음악   체육\n",
       "0  서준  90  98   85  100\n",
       "1  우현  80  89   95   90\n",
       "2  인아  70  95  100   90\n",
       "4  지훈   0   0    0    1"
      ]
     },
     "execution_count": 215,
     "metadata": {},
     "output_type": "execute_result"
    }
   ],
   "source": [
    "funcUpdate('지훈',0,0,0,1)\n",
    "ef"
   ]
  },
  {
   "cell_type": "code",
   "execution_count": 226,
   "id": "e0925d7c-5a7d-40c3-aad5-34386403ce8a",
   "metadata": {},
   "outputs": [
    {
     "data": {
      "text/html": [
       "<div>\n",
       "<style scoped>\n",
       "    .dataframe tbody tr th:only-of-type {\n",
       "        vertical-align: middle;\n",
       "    }\n",
       "\n",
       "    .dataframe tbody tr th {\n",
       "        vertical-align: top;\n",
       "    }\n",
       "\n",
       "    .dataframe thead th {\n",
       "        text-align: right;\n",
       "    }\n",
       "</style>\n",
       "<table border=\"1\" class=\"dataframe\">\n",
       "  <thead>\n",
       "    <tr style=\"text-align: right;\">\n",
       "      <th></th>\n",
       "      <th>이름</th>\n",
       "      <th>수학</th>\n",
       "      <th>영어</th>\n",
       "      <th>음악</th>\n",
       "      <th>체육</th>\n",
       "    </tr>\n",
       "  </thead>\n",
       "  <tbody>\n",
       "    <tr>\n",
       "      <th>0</th>\n",
       "      <td>서준</td>\n",
       "      <td>90</td>\n",
       "      <td>98</td>\n",
       "      <td>85</td>\n",
       "      <td>100</td>\n",
       "    </tr>\n",
       "    <tr>\n",
       "      <th>1</th>\n",
       "      <td>우현</td>\n",
       "      <td>80</td>\n",
       "      <td>89</td>\n",
       "      <td>95</td>\n",
       "      <td>90</td>\n",
       "    </tr>\n",
       "    <tr>\n",
       "      <th>2</th>\n",
       "      <td>인아</td>\n",
       "      <td>70</td>\n",
       "      <td>95</td>\n",
       "      <td>100</td>\n",
       "      <td>90</td>\n",
       "    </tr>\n",
       "  </tbody>\n",
       "</table>\n",
       "</div>"
      ],
      "text/plain": [
       "   이름  수학  영어   음악   체육\n",
       "0  서준  90  98   85  100\n",
       "1  우현  80  89   95   90\n",
       "2  인아  70  95  100   90"
      ]
     },
     "execution_count": 226,
     "metadata": {},
     "output_type": "execute_result"
    }
   ],
   "source": [
    "funcDelete('지훈')\n",
    "ef"
   ]
  },
  {
   "cell_type": "code",
   "execution_count": null,
   "id": "6e5f7d4a-8035-4000-975e-13bf83d90148",
   "metadata": {},
   "outputs": [],
   "source": []
  }
 ],
 "metadata": {
  "kernelspec": {
   "display_name": "Python 3 (ipykernel)",
   "language": "python",
   "name": "python3"
  },
  "language_info": {
   "codemirror_mode": {
    "name": "ipython",
    "version": 3
   },
   "file_extension": ".py",
   "mimetype": "text/x-python",
   "name": "python",
   "nbconvert_exporter": "python",
   "pygments_lexer": "ipython3",
   "version": "3.9.0"
  }
 },
 "nbformat": 4,
 "nbformat_minor": 5
}
