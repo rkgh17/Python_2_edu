{
 "cells": [
  {
   "cell_type": "code",
   "execution_count": 1,
   "id": "f229811c-fc15-41ac-bea9-ba8253bf5391",
   "metadata": {},
   "outputs": [
    {
     "name": "stdout",
     "output_type": "stream",
     "text": [
      "hello world\n"
     ]
    }
   ],
   "source": [
    "print(\"hello world\")"
   ]
  },
  {
   "cell_type": "code",
   "execution_count": 2,
   "id": "0837aabb-2a74-4cb0-adaf-c1e6eb4a6757",
   "metadata": {},
   "outputs": [
    {
     "name": "stdout",
     "output_type": "stream",
     "text": [
      "황지훈\n"
     ]
    }
   ],
   "source": [
    "#자바 : 정적 타입_ 개발자가 타입을 명시함\n",
    "#파이썬 : 동적 타입_ 메모리에 할당된 값을 보고 언어가 유추하여 타입 지정\n",
    "\n",
    "name='황지훈'\n",
    "print(name)"
   ]
  },
  {
   "cell_type": "code",
   "execution_count": 6,
   "id": "d3c6465b-2594-44a1-8142-683247675b3b",
   "metadata": {},
   "outputs": [
    {
     "name": "stdout",
     "output_type": "stream",
     "text": [
      "human 3class 황지훈\n"
     ]
    }
   ],
   "source": [
    "class1 = \"human 3class\"\n",
    "print(class1 + ' ' +name)"
   ]
  },
  {
   "cell_type": "code",
   "execution_count": 8,
   "id": "e8e764b6-2d66-4c08-96ca-959f10e50587",
   "metadata": {},
   "outputs": [
    {
     "name": "stdout",
     "output_type": "stream",
     "text": [
      "<class 'pandas.core.series.Series'>\n",
      "\n",
      "\n",
      "a       1\n",
      "b       2\n",
      "c       3\n",
      "황지훈    학생\n",
      "dtype: object\n"
     ]
    }
   ],
   "source": [
    "#import : 라이브러리 pandas를 가져다 쓰겠다\n",
    "import pandas as pd # as = 별칭\n",
    "\n",
    "#변수 : 변하는 수 <> 상수 : 변하지 않는 수\n",
    "#dict_data 변수 할당\n",
    "#키 값으로 이루어진 dictionary\n",
    "dict_data={'a':1,'b':2,'c':3,'황지훈':'학생'} # a호출 1\n",
    "\n",
    "#pd의 Series 메서드 실행 -> 인자값은(dict_data)\n",
    "sr = pd.Series(dict_data)\n",
    "print(type(sr))\n",
    "print('\\n')\n",
    "print(sr)"
   ]
  },
  {
   "cell_type": "code",
   "execution_count": 9,
   "id": "19eaa701-ae50-4e56-8a22-c40a65115c0a",
   "metadata": {},
   "outputs": [
    {
     "name": "stdout",
     "output_type": "stream",
     "text": [
      "0    2019-01-02\n",
      "1          3.14\n",
      "2           ABC\n",
      "3           100\n",
      "4          True\n",
      "dtype: object\n"
     ]
    }
   ],
   "source": [
    "#참조타입 : 변수와 변수값을 연결하는 타입 <> 기본타입\n",
    "#sr이라는 변수이름의 원래 데이터는 dict_data\n",
    "list_data = ['2019-01-02',3.14,'ABC',100,True]\n",
    "sr=pd.Series(list_data)\n",
    "print(sr)"
   ]
  },
  {
   "cell_type": "code",
   "execution_count": 12,
   "id": "683f1267-92e3-4e40-b85a-6639308df80a",
   "metadata": {},
   "outputs": [
    {
     "name": "stdout",
     "output_type": "stream",
     "text": [
      "나의 이름은 xxx\n"
     ]
    }
   ],
   "source": [
    "#학생의 개인정보를 저장하는 딕셔너리 배열을 만들고\n",
    "#(이름, id, pw, 성별)\n",
    "#그중에 이름을 출력하는 print\n",
    "\n",
    "#{}중괄호 : map (key, value)\n",
    "# example = {'key':value}\n",
    "\n",
    "#[]대괄호 : 배열\n",
    "# example = [1, 2, 3, 4 ... ]\n",
    "std = {'name':'aaa','id':'aaa','pw':'xxx','gender':'F'}\n",
    "\n",
    "# 향상된 반복문\n",
    "# 자바> for(String item : stringArray)\n",
    "# 기본 반복문과 동일하나, 배열 처음부터 끝까지 모두 조회를 할 때 사용\n",
    "# 파이썬> item in itemArray\n",
    "if 'name' in std:\n",
    "    print('나의 이름은 '+std['name'])\n",
    "else:\n",
    "    print('이름없음')"
   ]
  },
  {
   "cell_type": "code",
   "execution_count": 15,
   "id": "ef4c501e-f55b-4c38-a46f-0e9ddf305f5a",
   "metadata": {},
   "outputs": [
    {
     "name": "stdout",
     "output_type": "stream",
     "text": [
      "dict_keys(['june', 'hello', 'world'])\n",
      "\n",
      "june : 12\n",
      "hello : 22\n",
      "world : 33\n"
     ]
    }
   ],
   "source": [
    "#key이용\n",
    "some_dict = {'june' : 12, 'hello' : 22, 'world':33}\n",
    "print(some_dict.keys())\n",
    "print()\n",
    "\n",
    "for key in some_dict.keys():\n",
    "    print(key, ':' , some_dict[key])"
   ]
  },
  {
   "cell_type": "code",
   "execution_count": 17,
   "id": "0f7ad5f4-559a-45b6-b2e9-af95f7993c85",
   "metadata": {},
   "outputs": [
    {
     "name": "stdout",
     "output_type": "stream",
     "text": [
      "june : 12\n",
      "hello : 22\n",
      "world : 33\n"
     ]
    }
   ],
   "source": [
    "#items 이용\n",
    "for key, value in some_dict.items():\n",
    "    print(key, ':' , value)"
   ]
  },
  {
   "cell_type": "code",
   "execution_count": null,
   "id": "88f8a35a-ed68-4cf6-88c0-494fc0b50eae",
   "metadata": {},
   "outputs": [],
   "source": []
  },
  {
   "cell_type": "code",
   "execution_count": null,
   "id": "185d96f2-c02a-4ad2-b600-e09325b93fc3",
   "metadata": {},
   "outputs": [],
   "source": []
  },
  {
   "cell_type": "code",
   "execution_count": null,
   "id": "edd5e7d0-71ac-4aea-a250-d45708def66c",
   "metadata": {},
   "outputs": [],
   "source": []
  },
  {
   "cell_type": "code",
   "execution_count": null,
   "id": "bd210b92-12ed-400b-b48a-cb1357721151",
   "metadata": {},
   "outputs": [],
   "source": []
  }
 ],
 "metadata": {
  "kernelspec": {
   "display_name": "Python 3 (ipykernel)",
   "language": "python",
   "name": "python3"
  },
  "language_info": {
   "codemirror_mode": {
    "name": "ipython",
    "version": 3
   },
   "file_extension": ".py",
   "mimetype": "text/x-python",
   "name": "python",
   "nbconvert_exporter": "python",
   "pygments_lexer": "ipython3",
   "version": "3.9.0"
  }
 },
 "nbformat": 4,
 "nbformat_minor": 5
}
