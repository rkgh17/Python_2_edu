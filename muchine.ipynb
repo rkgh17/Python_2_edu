{
 "cells": [
  {
   "cell_type": "code",
   "execution_count": 9,
   "id": "71e07a83-0213-4675-aa28-be2b3a794f21",
   "metadata": {},
   "outputs": [],
   "source": [
    "import pandas as pd\n",
    "from bs4 import BeautifulSoup as bs\n",
    "import requests\n",
    "import re"
   ]
  },
  {
   "cell_type": "code",
   "execution_count": 2,
   "id": "6d8e3906-3c77-473c-ba7a-009c312fed39",
   "metadata": {},
   "outputs": [],
   "source": [
    "file_path='./iris.csv'\n",
    "df1 = pd.read_csv(file_path)\n",
    "#excel = pd.read_excel()"
   ]
  },
  {
   "cell_type": "code",
   "execution_count": null,
   "id": "185af282-53f6-49c8-ab09-fa28f0e1bf7b",
   "metadata": {},
   "outputs": [
    {
     "name": "stdout",
     "output_type": "stream",
     "text": [
      "     sepal.length\n",
      "0             5.1\n",
      "1             4.9\n",
      "2             4.7\n",
      "3             4.6\n",
      "4             5.0\n",
      "..            ...\n",
      "145           6.7\n",
      "146           6.3\n",
      "147           6.5\n",
      "148           6.2\n",
      "149           5.9\n",
      "\n",
      "[150 rows x 1 columns]\n"
     ]
    }
   ],
   "source": [
    "print(df1.iloc[:,:1])"
   ]
  },
  {
   "cell_type": "code",
   "execution_count": null,
   "id": "aa13a80e-ed03-4b8c-a274-1c27c35f741d",
   "metadata": {},
   "outputs": [],
   "source": []
  }
 ],
 "metadata": {
  "kernelspec": {
   "display_name": "Python 3 (ipykernel)",
   "language": "python",
   "name": "python3"
  },
  "language_info": {
   "codemirror_mode": {
    "name": "ipython",
    "version": 3
   },
   "file_extension": ".py",
   "mimetype": "text/x-python",
   "name": "python",
   "nbconvert_exporter": "python",
   "pygments_lexer": "ipython3",
   "version": "3.9.0"
  }
 },
 "nbformat": 4,
 "nbformat_minor": 5
}
