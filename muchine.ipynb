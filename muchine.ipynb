{
 "cells": [
  {
   "cell_type": "code",
   "execution_count": 25,
   "id": "71e07a83-0213-4675-aa28-be2b3a794f21",
   "metadata": {},
   "outputs": [],
   "source": [
    "import pandas as pd\n",
    "from bs4 import BeautifulSoup as bs\n",
    "import requests\n",
    "import re"
   ]
  },
  {
   "cell_type": "code",
   "execution_count": 14,
   "id": "6d8e3906-3c77-473c-ba7a-009c312fed39",
   "metadata": {},
   "outputs": [],
   "source": [
    "file_path='./iris.csv'\n",
    "iris = pd.read_csv(file_path)\n",
    "#excel = pd.read_excel()"
   ]
  },
  {
   "cell_type": "code",
   "execution_count": 15,
   "id": "185af282-53f6-49c8-ab09-fa28f0e1bf7b",
   "metadata": {},
   "outputs": [
    {
     "name": "stdout",
     "output_type": "stream",
     "text": [
      "     sepal.length  sepal.width  petal.length  petal.width    variety\n",
      "0             5.1          3.5           1.4          0.2     Setosa\n",
      "1             4.9          3.0           1.4          0.2     Setosa\n",
      "2             4.7          3.2           1.3          0.2     Setosa\n",
      "3             4.6          3.1           1.5          0.2     Setosa\n",
      "4             5.0          3.6           1.4          0.2     Setosa\n",
      "..            ...          ...           ...          ...        ...\n",
      "145           6.7          3.0           5.2          2.3  Virginica\n",
      "146           6.3          2.5           5.0          1.9  Virginica\n",
      "147           6.5          3.0           5.2          2.0  Virginica\n",
      "148           6.2          3.4           5.4          2.3  Virginica\n",
      "149           5.9          3.0           5.1          1.8  Virginica\n",
      "\n",
      "[150 rows x 5 columns]\n"
     ]
    }
   ],
   "source": [
    "print(iris)"
   ]
  },
  {
   "cell_type": "code",
   "execution_count": 19,
   "id": "aa13a80e-ed03-4b8c-a274-1c27c35f741d",
   "metadata": {},
   "outputs": [
    {
     "name": "stdout",
     "output_type": "stream",
     "text": [
      "0         Setosa\n",
      "1         Setosa\n",
      "2         Setosa\n",
      "3         Setosa\n",
      "4         Setosa\n",
      "         ...    \n",
      "145    Virginica\n",
      "146    Virginica\n",
      "147    Virginica\n",
      "148    Virginica\n",
      "149    Virginica\n",
      "Name: variety, Length: 150, dtype: object\n"
     ]
    }
   ],
   "source": [
    "X = iris.iloc[:,:-1]\n",
    "y = iris.iloc[:,-1]\n",
    "print(y)\n",
    "#머신러닝은 답을 알려줌(컴퓨터에게)\n",
    "#딥러닝 : 답을 안알려주고, 알아서 결과를 도출하게 만드는 알고리즘"
   ]
  },
  {
   "cell_type": "code",
   "execution_count": 31,
   "id": "677f3fb6-1e50-44de-aae4-8d1ae3e5c50b",
   "metadata": {},
   "outputs": [],
   "source": [
    "from sklearn.model_selection import train_test_split\n",
    "from sklearn.preprocessing import scale\n"
   ]
  },
  {
   "cell_type": "code",
   "execution_count": 27,
   "id": "cb377920-971a-4f31-8de5-68893df7315a",
   "metadata": {},
   "outputs": [
    {
     "name": "stdout",
     "output_type": "stream",
     "text": [
      "train data 개수 :  105\n",
      "test data 개수 :  45\n"
     ]
    }
   ],
   "source": [
    "#X : 독립변수\n",
    "#y : 종속변수\n",
    "train_X, test_X, train_y, test_y = train_test_split(X ,y ,\n",
    "                                                    test_size=0.3 ,#150의 30퍼센트를 테스트로 할당\n",
    "                                                    random_state=1)\n",
    "print('train data 개수 : ',len(train_X))\n",
    "print('test data 개수 : ',len(test_X))"
   ]
  },
  {
   "cell_type": "code",
   "execution_count": null,
   "id": "5b966a35-5518-49a9-a26e-3084f96f567b",
   "metadata": {},
   "outputs": [],
   "source": [
    "#데이터 전처리\n",
    "#컬럼 명 bold\n",
    "\n",
    "# 좀더 데이터를 명확하게 이해하기\n",
    "# X.head()\n",
    "\n",
    "# info()메서드를 통해 전처리가 필요한 데이터를 1차적 유추(null, type 등등)\n",
    "# X.info()"
   ]
  },
  {
   "cell_type": "code",
   "execution_count": 32,
   "id": "2dc64b60-f7a5-4a91-a868-260e64534e74",
   "metadata": {},
   "outputs": [
    {
     "name": "stdout",
     "output_type": "stream",
     "text": [
      "   sepal.length  sepal.width  petal.length  petal.width\n",
      "0           5.1          3.5           1.4          0.2\n",
      "1           4.9          3.0           1.4          0.2\n",
      "2           4.7          3.2           1.3          0.2\n",
      "3           4.6          3.1           1.5          0.2\n",
      "4           5.0          3.6           1.4          0.2\n"
     ]
    },
    {
     "data": {
      "text/plain": [
       "array([[-0.90068117,  1.01900435, -1.34022653, -1.3154443 ],\n",
       "       [-1.14301691, -0.13197948, -1.34022653, -1.3154443 ],\n",
       "       [-1.38535265,  0.32841405, -1.39706395, -1.3154443 ],\n",
       "       [-1.50652052,  0.09821729, -1.2833891 , -1.3154443 ],\n",
       "       [-1.02184904,  1.24920112, -1.34022653, -1.3154443 ]])"
      ]
     },
     "execution_count": 32,
     "metadata": {},
     "output_type": "execute_result"
    }
   ],
   "source": [
    "#표준편차\n",
    "#편차란?\n",
    "#원래값에서 평균을 뺀 값(음수 양수 모두 성립) : 평균이랑 얼마냐 다르냐\n",
    "#음수를 양수로 만들기 위해 편차에 제곱 -> 분산\n",
    "#분산에 루트를 씌운 것이 표준 편차 -> 원래 데이터에 대한 오차 범위의 근사값\n",
    "\n",
    "# scale() 평균이 0, 표준편차가 1\n",
    "iris_scaled = scale(X) # iris 데이터들의 표준편차를 구함\n",
    "print(iris.iloc[:5,:-1])\n",
    "# print(iris_scaled)\n",
    "iris_scaled[:5,:]"
   ]
  },
  {
   "cell_type": "code",
   "execution_count": 33,
   "id": "86c3bfeb-3b00-44bc-9c79-df2c85c597fd",
   "metadata": {},
   "outputs": [
    {
     "data": {
      "text/plain": [
       "array([-4.73695157e-16, -7.81597009e-16, -4.26325641e-16, -4.73695157e-16])"
      ]
     },
     "execution_count": 33,
     "metadata": {},
     "output_type": "execute_result"
    }
   ],
   "source": [
    "#axis = 축\n",
    "#0-> 세로 기준으로 늘어나거나 축소\n",
    "#axiss=1 (가로 기준으로 늘어나거나 축소)\n",
    "iris_scaled.mean(axis=0)"
   ]
  },
  {
   "cell_type": "code",
   "execution_count": 34,
   "id": "96683f60-d7aa-46a2-9d00-bf9db0f93de0",
   "metadata": {},
   "outputs": [
    {
     "data": {
      "text/plain": [
       "array([1., 1., 1., 1.])"
      ]
     },
     "execution_count": 34,
     "metadata": {},
     "output_type": "execute_result"
    }
   ],
   "source": [
    "iris_scaled.std(axis=0)"
   ]
  }
 ],
 "metadata": {
  "kernelspec": {
   "display_name": "Python 3 (ipykernel)",
   "language": "python",
   "name": "python3"
  },
  "language_info": {
   "codemirror_mode": {
    "name": "ipython",
    "version": 3
   },
   "file_extension": ".py",
   "mimetype": "text/x-python",
   "name": "python",
   "nbconvert_exporter": "python",
   "pygments_lexer": "ipython3",
   "version": "3.9.0"
  }
 },
 "nbformat": 4,
 "nbformat_minor": 5
}
