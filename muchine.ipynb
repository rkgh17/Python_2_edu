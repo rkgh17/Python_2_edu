{
 "cells": [
  {
   "cell_type": "code",
   "execution_count": 9,
   "id": "71e07a83-0213-4675-aa28-be2b3a794f21",
   "metadata": {},
   "outputs": [],
   "source": [
    "import pandas as pd\n",
    "from bs4 import BeautifulSoup as bs\n",
    "import requests\n",
    "import re"
   ]
  },
  {
   "cell_type": "code",
   "execution_count": 14,
   "id": "6d8e3906-3c77-473c-ba7a-009c312fed39",
   "metadata": {},
   "outputs": [],
   "source": [
    "file_path='./iris.csv'\n",
    "iris = pd.read_csv(file_path)\n",
    "#excel = pd.read_excel()"
   ]
  },
  {
   "cell_type": "code",
   "execution_count": 15,
   "id": "185af282-53f6-49c8-ab09-fa28f0e1bf7b",
   "metadata": {},
   "outputs": [
    {
     "name": "stdout",
     "output_type": "stream",
     "text": [
      "     sepal.length  sepal.width  petal.length  petal.width    variety\n",
      "0             5.1          3.5           1.4          0.2     Setosa\n",
      "1             4.9          3.0           1.4          0.2     Setosa\n",
      "2             4.7          3.2           1.3          0.2     Setosa\n",
      "3             4.6          3.1           1.5          0.2     Setosa\n",
      "4             5.0          3.6           1.4          0.2     Setosa\n",
      "..            ...          ...           ...          ...        ...\n",
      "145           6.7          3.0           5.2          2.3  Virginica\n",
      "146           6.3          2.5           5.0          1.9  Virginica\n",
      "147           6.5          3.0           5.2          2.0  Virginica\n",
      "148           6.2          3.4           5.4          2.3  Virginica\n",
      "149           5.9          3.0           5.1          1.8  Virginica\n",
      "\n",
      "[150 rows x 5 columns]\n"
     ]
    }
   ],
   "source": [
    "print(iris)"
   ]
  },
  {
   "cell_type": "code",
   "execution_count": 19,
   "id": "aa13a80e-ed03-4b8c-a274-1c27c35f741d",
   "metadata": {},
   "outputs": [
    {
     "name": "stdout",
     "output_type": "stream",
     "text": [
      "0         Setosa\n",
      "1         Setosa\n",
      "2         Setosa\n",
      "3         Setosa\n",
      "4         Setosa\n",
      "         ...    \n",
      "145    Virginica\n",
      "146    Virginica\n",
      "147    Virginica\n",
      "148    Virginica\n",
      "149    Virginica\n",
      "Name: variety, Length: 150, dtype: object\n"
     ]
    }
   ],
   "source": [
    "X = iris.iloc[:,:-1]\n",
    "y = iris.iloc[:,-1]\n",
    "print(y)\n",
    "#머신러닝은 답을 알려줌(컴퓨터에게)\n",
    "#딥러닝 : 답을 안알려주고, 알아서 결과를 도출하게 만드는 알고리즘"
   ]
  },
  {
   "cell_type": "code",
   "execution_count": 17,
   "id": "677f3fb6-1e50-44de-aae4-8d1ae3e5c50b",
   "metadata": {},
   "outputs": [],
   "source": [
    "from sklearn.model_selection import train_test_split"
   ]
  },
  {
   "cell_type": "code",
   "execution_count": 20,
   "id": "cb377920-971a-4f31-8de5-68893df7315a",
   "metadata": {},
   "outputs": [
    {
     "name": "stdout",
     "output_type": "stream",
     "text": [
      "train data 개수 :  105\n",
      "test data 개수 :  45\n"
     ]
    }
   ],
   "source": [
    "#X : 독립변수\n",
    "#y : 종속변수\n",
    "train_X, test_X, train_y, test_y = train_test_split(X ,y ,\n",
    "                                                    test_size=0.3 ,#150의 30퍼센트를 테스트로 할당\n",
    "                                                    random_state=1)\n",
    "print('train data 개수 : ',len(train_X))\n",
    "print('test data 개수 : ',len(test_X))"
   ]
  }
 ],
 "metadata": {
  "kernelspec": {
   "display_name": "Python 3 (ipykernel)",
   "language": "python",
   "name": "python3"
  },
  "language_info": {
   "codemirror_mode": {
    "name": "ipython",
    "version": 3
   },
   "file_extension": ".py",
   "mimetype": "text/x-python",
   "name": "python",
   "nbconvert_exporter": "python",
   "pygments_lexer": "ipython3",
   "version": "3.9.0"
  }
 },
 "nbformat": 4,
 "nbformat_minor": 5
}
