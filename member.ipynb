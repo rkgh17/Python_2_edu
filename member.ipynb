{
 "cells": [
  {
   "cell_type": "code",
   "execution_count": 1,
   "id": "5304a96b-f154-47f6-a172-a089a0a479af",
   "metadata": {},
   "outputs": [],
   "source": [
    "import pandas as pd"
   ]
  },
  {
   "cell_type": "code",
   "execution_count": null,
   "id": "2e638a8e-e76b-4820-afb5-951e62ac3b82",
   "metadata": {},
   "outputs": [],
   "source": [
    "#회원가입 만들기\n",
    "#1. id, pw, name 변수의 값을 저장하는 데이터 프레임을 만들기\n",
    "#2. id, pw, name값을 받고, df데이터프레임에 저장하는 기능 구현\n",
    "#3. id값을 찾아서 같은 id값이면 '같은 id가 있습니다.' 출력\n",
    "#4. id값을 찾아서 그 row의 pw의 값을 변경하는 메서드 구현"
   ]
  },
  {
   "cell_type": "code",
   "execution_count": 56,
   "id": "c78254b6-4ea7-4007-a0af-1c180418f85b",
   "metadata": {},
   "outputs": [],
   "source": [
    "member = pd.DataFrame(columns=['id','pw', 'name'])"
   ]
  },
  {
   "cell_type": "code",
   "execution_count": 58,
   "id": "e9d299d5-9ac4-4d8b-9175-3f2c685692fa",
   "metadata": {},
   "outputs": [],
   "source": [
    "# 저장기능 + id중복 x\n",
    "def mem_insert(num1, num2, num3):\n",
    "    global member\n",
    "    member.loc[len(member)] = [num1, num2, num3]\n",
    "    dup = member.duplicated(['id'])\n",
    "    for i in dup:\n",
    "        if i is True:\n",
    "            print('id 중복입니다.')\n",
    "            member=member.drop_duplicates(['id'],keep='first')\n",
    "            break\n",
    "\n",
    "# pw변경하기\n",
    "def mem_pwChange(num1, num2, num3):\n",
    "    global member\n",
    "    member.loc[member.id == num1, ()]"
   ]
  },
  {
   "cell_type": "code",
   "execution_count": 10,
   "id": "8ad744bc-133c-4d89-ac52-fbddf22e4ba1",
   "metadata": {},
   "outputs": [],
   "source": []
  }
 ],
 "metadata": {
  "kernelspec": {
   "display_name": "Python 3 (ipykernel)",
   "language": "python",
   "name": "python3"
  },
  "language_info": {
   "codemirror_mode": {
    "name": "ipython",
    "version": 3
   },
   "file_extension": ".py",
   "mimetype": "text/x-python",
   "name": "python",
   "nbconvert_exporter": "python",
   "pygments_lexer": "ipython3",
   "version": "3.9.0"
  }
 },
 "nbformat": 4,
 "nbformat_minor": 5
}
