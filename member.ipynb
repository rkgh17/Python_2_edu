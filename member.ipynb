{
 "cells": [
  {
   "cell_type": "code",
   "execution_count": 1,
   "id": "5304a96b-f154-47f6-a172-a089a0a479af",
   "metadata": {},
   "outputs": [],
   "source": [
    "import pandas as pd"
   ]
  },
  {
   "cell_type": "code",
   "execution_count": null,
   "id": "2e638a8e-e76b-4820-afb5-951e62ac3b82",
   "metadata": {},
   "outputs": [],
   "source": [
    "#회원가입 만들기\n",
    "#1. id, pw, name 변수의 값을 저장하는 데이터 프레임을 만들기\n",
    "#2. id, pw, name값을 받고, df데이터프레임에 저장하는 기능 구현\n",
    "#3. id값을 찾아서 같은 id값이면 '같은 id가 있습니다.' 출력\n",
    "#4. id값을 찾아서 그 row의 pw의 값을 변경하는 메서드 구현"
   ]
  },
  {
   "cell_type": "code",
   "execution_count": 56,
   "id": "c78254b6-4ea7-4007-a0af-1c180418f85b",
   "metadata": {},
   "outputs": [],
   "source": [
    "member = pd.DataFrame(columns=['id','pw', 'name'])"
   ]
  },
  {
   "cell_type": "code",
   "execution_count": 85,
   "id": "e9d299d5-9ac4-4d8b-9175-3f2c685692fa",
   "metadata": {},
   "outputs": [],
   "source": [
    "# 저장기능 + id중복 x\n",
    "def mem_insert():\n",
    "    mem_id=input('id : ')\n",
    "    mem_pw=input('pw : ')\n",
    "    mem_name=input('name : ')\n",
    "    global member\n",
    "    member.loc[len(member)] = [mem_id, mem_pw, mem_name]\n",
    "    dup = member.duplicated(['id'])\n",
    "    for i in dup:\n",
    "        if i is True:\n",
    "            print('id 중복입니다.')\n",
    "            member=member.drop_duplicates(['id'],keep='first')\n",
    "            break\n",
    "\n",
    "# pw변경하기\n",
    "def mem_pwChange(num1, num2):\n",
    "    global member\n",
    "    member.loc[member.id == num1, ('pw')] = (num2)\n",
    "\n"
   ]
  },
  {
   "cell_type": "code",
   "execution_count": 78,
   "id": "8ad744bc-133c-4d89-ac52-fbddf22e4ba1",
   "metadata": {},
   "outputs": [
    {
     "data": {
      "text/html": [
       "<div>\n",
       "<style scoped>\n",
       "    .dataframe tbody tr th:only-of-type {\n",
       "        vertical-align: middle;\n",
       "    }\n",
       "\n",
       "    .dataframe tbody tr th {\n",
       "        vertical-align: top;\n",
       "    }\n",
       "\n",
       "    .dataframe thead th {\n",
       "        text-align: right;\n",
       "    }\n",
       "</style>\n",
       "<table border=\"1\" class=\"dataframe\">\n",
       "  <thead>\n",
       "    <tr style=\"text-align: right;\">\n",
       "      <th></th>\n",
       "      <th>id</th>\n",
       "      <th>pw</th>\n",
       "      <th>name</th>\n",
       "    </tr>\n",
       "  </thead>\n",
       "  <tbody>\n",
       "    <tr>\n",
       "      <th>0</th>\n",
       "      <td>bbb</td>\n",
       "      <td>1234</td>\n",
       "      <td>wlgns</td>\n",
       "    </tr>\n",
       "    <tr>\n",
       "      <th>1</th>\n",
       "      <td>aaa</td>\n",
       "      <td>1233</td>\n",
       "      <td>지훈</td>\n",
       "    </tr>\n",
       "    <tr>\n",
       "      <th>2</th>\n",
       "      <td>abc</td>\n",
       "      <td>1335</td>\n",
       "      <td>훈지</td>\n",
       "    </tr>\n",
       "    <tr>\n",
       "      <th>3</th>\n",
       "      <td>adc</td>\n",
       "      <td>1112</td>\n",
       "      <td>지이훈</td>\n",
       "    </tr>\n",
       "  </tbody>\n",
       "</table>\n",
       "</div>"
      ],
      "text/plain": [
       "    id    pw   name\n",
       "0  bbb  1234  wlgns\n",
       "1  aaa  1233     지훈\n",
       "2  abc  1335     훈지\n",
       "3  adc  1112    지이훈"
      ]
     },
     "execution_count": 78,
     "metadata": {},
     "output_type": "execute_result"
    }
   ],
   "source": [
    "member"
   ]
  },
  {
   "cell_type": "code",
   "execution_count": 83,
   "id": "996cf698-bc68-4c6c-a426-b59795cde607",
   "metadata": {},
   "outputs": [
    {
     "name": "stdin",
     "output_type": "stream",
     "text": [
      "id :  aaa\n",
      "pw :  123\n",
      "name :  111\n"
     ]
    },
    {
     "name": "stdout",
     "output_type": "stream",
     "text": [
      "id 중복입니다.\n"
     ]
    }
   ],
   "source": [
    "mem_insert()"
   ]
  },
  {
   "cell_type": "code",
   "execution_count": 80,
   "id": "ddbede2f-614e-4216-86dd-4972377f2dac",
   "metadata": {},
   "outputs": [],
   "source": [
    "#아래부턴 선생님코드\n",
    "df = pd.DataFrame(index=range(0,0),columns=['id','pw', 'name'])"
   ]
  },
  {
   "cell_type": "code",
   "execution_count": null,
   "id": "8343867e-f445-4154-8a6e-bf1c76c0b81a",
   "metadata": {},
   "outputs": [],
   "source": [
    "#input : 자바의 scanner 클래스와 동일, 사용자의 입력값을 키보드와 버퍼를 통해\n",
    "#데이터를 받아서 python 인터프리터에 저장\n",
    "def insertData():\n",
    "    global df\n",
    "    input_id = input('id : ')\n",
    "    input_pw = input('pw : ')\n",
    "    input_name = input('name : ')\n",
    "    df.loc[len(df)] = [input_id, input_pw, input_name]\n",
    "    \n"
   ]
  },
  {
   "cell_type": "code",
   "execution_count": null,
   "id": "45c24f2d-ba35-4b55-a5b4-12954bfbf3d8",
   "metadata": {},
   "outputs": [],
   "source": []
  }
 ],
 "metadata": {
  "kernelspec": {
   "display_name": "Python 3 (ipykernel)",
   "language": "python",
   "name": "python3"
  },
  "language_info": {
   "codemirror_mode": {
    "name": "ipython",
    "version": 3
   },
   "file_extension": ".py",
   "mimetype": "text/x-python",
   "name": "python",
   "nbconvert_exporter": "python",
   "pygments_lexer": "ipython3",
   "version": "3.9.0"
  }
 },
 "nbformat": 4,
 "nbformat_minor": 5
}
