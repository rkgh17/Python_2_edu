{
 "cells": [
  {
   "cell_type": "code",
   "execution_count": 1,
   "id": "f229811c-fc15-41ac-bea9-ba8253bf5391",
   "metadata": {},
   "outputs": [
    {
     "name": "stdout",
     "output_type": "stream",
     "text": [
      "hello world\n"
     ]
    }
   ],
   "source": [
    "print(\"hello world\")"
   ]
  },
  {
   "cell_type": "code",
   "execution_count": 2,
   "id": "0837aabb-2a74-4cb0-adaf-c1e6eb4a6757",
   "metadata": {},
   "outputs": [
    {
     "name": "stdout",
     "output_type": "stream",
     "text": [
      "황지훈\n"
     ]
    }
   ],
   "source": [
    "#자바 : 정적 타입_ 개발자가 타입을 명시함\n",
    "#파이썬 : 동적 타입_ 메모리에 할당된 값을 보고 언어가 유추하여 타입 지정\n",
    "\n",
    "name='황지훈'\n",
    "print(name)"
   ]
  },
  {
   "cell_type": "code",
   "execution_count": 6,
   "id": "d3c6465b-2594-44a1-8142-683247675b3b",
   "metadata": {},
   "outputs": [
    {
     "name": "stdout",
     "output_type": "stream",
     "text": [
      "human 3class 황지훈\n"
     ]
    }
   ],
   "source": [
    "class1 = \"human 3class\"\n",
    "print(class1 + ' ' +name)"
   ]
  },
  {
   "cell_type": "code",
   "execution_count": 8,
   "id": "e8e764b6-2d66-4c08-96ca-959f10e50587",
   "metadata": {},
   "outputs": [
    {
     "name": "stdout",
     "output_type": "stream",
     "text": [
      "<class 'pandas.core.series.Series'>\n",
      "\n",
      "\n",
      "a       1\n",
      "b       2\n",
      "c       3\n",
      "황지훈    학생\n",
      "dtype: object\n"
     ]
    }
   ],
   "source": [
    "#import : 라이브러리 pandas를 가져다 쓰겠다\n",
    "import pandas as pd # as = 별칭\n",
    "\n",
    "#변수 : 변하는 수 <> 상수 : 변하지 않는 수\n",
    "#dict_data 변수 할당\n",
    "#키 값으로 이루어진 dictionary\n",
    "dict_data={'a':1,'b':2,'c':3,'황지훈':'학생'} # a호출 1\n",
    "\n",
    "#pd의 Series 메서드 실행 -> 인자값은(dict_data)\n",
    "sr = pd.Series(dict_data)\n",
    "print(type(sr))\n",
    "print('\\n')\n",
    "print(sr)"
   ]
  },
  {
   "cell_type": "code",
   "execution_count": null,
   "id": "19eaa701-ae50-4e56-8a22-c40a65115c0a",
   "metadata": {},
   "outputs": [],
   "source": []
  },
  {
   "cell_type": "code",
   "execution_count": null,
   "id": "683f1267-92e3-4e40-b85a-6639308df80a",
   "metadata": {},
   "outputs": [],
   "source": []
  },
  {
   "cell_type": "code",
   "execution_count": null,
   "id": "ef4c501e-f55b-4c38-a46f-0e9ddf305f5a",
   "metadata": {},
   "outputs": [],
   "source": []
  },
  {
   "cell_type": "code",
   "execution_count": null,
   "id": "0f7ad5f4-559a-45b6-b2e9-af95f7993c85",
   "metadata": {},
   "outputs": [],
   "source": []
  }
 ],
 "metadata": {
  "kernelspec": {
   "display_name": "Python 3 (ipykernel)",
   "language": "python",
   "name": "python3"
  },
  "language_info": {
   "codemirror_mode": {
    "name": "ipython",
    "version": 3
   },
   "file_extension": ".py",
   "mimetype": "text/x-python",
   "name": "python",
   "nbconvert_exporter": "python",
   "pygments_lexer": "ipython3",
   "version": "3.9.0"
  }
 },
 "nbformat": 4,
 "nbformat_minor": 5
}
