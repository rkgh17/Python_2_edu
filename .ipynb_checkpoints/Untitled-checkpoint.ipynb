{
 "cells": [
  {
   "cell_type": "code",
   "execution_count": 1,
   "id": "f229811c-fc15-41ac-bea9-ba8253bf5391",
   "metadata": {},
   "outputs": [
    {
     "name": "stdout",
     "output_type": "stream",
     "text": [
      "hello world\n"
     ]
    }
   ],
   "source": [
    "print(\"hello world\")"
   ]
  },
  {
   "cell_type": "code",
   "execution_count": 2,
   "id": "0837aabb-2a74-4cb0-adaf-c1e6eb4a6757",
   "metadata": {},
   "outputs": [
    {
     "name": "stdout",
     "output_type": "stream",
     "text": [
      "황지훈\n"
     ]
    }
   ],
   "source": [
    "#자바 : 정적 타입_ 개발자가 타입을 명시함\n",
    "#파이썬 : 동적 타입_ 메모리에 할당된 값을 보고 언어가 유추하여 타입 지정\n",
    "\n",
    "name='황지훈'\n",
    "print(name)"
   ]
  },
  {
   "cell_type": "code",
   "execution_count": 6,
   "id": "d3c6465b-2594-44a1-8142-683247675b3b",
   "metadata": {},
   "outputs": [
    {
     "name": "stdout",
     "output_type": "stream",
     "text": [
      "human 3class 황지훈\n"
     ]
    }
   ],
   "source": [
    "class1 = \"human 3class\"\n",
    "print(class1 + ' ' +name)"
   ]
  },
  {
   "cell_type": "code",
   "execution_count": 8,
   "id": "e8e764b6-2d66-4c08-96ca-959f10e50587",
   "metadata": {},
   "outputs": [
    {
     "name": "stdout",
     "output_type": "stream",
     "text": [
      "<class 'pandas.core.series.Series'>\n",
      "\n",
      "\n",
      "a       1\n",
      "b       2\n",
      "c       3\n",
      "황지훈    학생\n",
      "dtype: object\n"
     ]
    }
   ],
   "source": [
    "#import : 라이브러리 pandas를 가져다 쓰겠다\n",
    "import pandas as pd # as = 별칭\n",
    "\n",
    "#변수 : 변하는 수 <> 상수 : 변하지 않는 수\n",
    "#dict_data 변수 할당\n",
    "#키 값으로 이루어진 dictionary\n",
    "dict_data={'a':1,'b':2,'c':3,'황지훈':'학생'} # a호출 1\n",
    "\n",
    "#pd의 Series 메서드 실행 -> 인자값은(dict_data)\n",
    "sr = pd.Series(dict_data)\n",
    "print(type(sr))\n",
    "print('\\n')\n",
    "print(sr)"
   ]
  },
  {
   "cell_type": "code",
   "execution_count": 9,
   "id": "19eaa701-ae50-4e56-8a22-c40a65115c0a",
   "metadata": {},
   "outputs": [
    {
     "name": "stdout",
     "output_type": "stream",
     "text": [
      "0    2019-01-02\n",
      "1          3.14\n",
      "2           ABC\n",
      "3           100\n",
      "4          True\n",
      "dtype: object\n"
     ]
    }
   ],
   "source": [
    "#참조타입 : 변수와 변수값을 연결하는 타입 <> 기본타입\n",
    "#sr이라는 변수이름의 원래 데이터는 dict_data\n",
    "list_data = ['2019-01-02',3.14,'ABC',100,True]\n",
    "sr=pd.Series(list_data)\n",
    "print(sr)"
   ]
  },
  {
   "cell_type": "code",
   "execution_count": 12,
   "id": "683f1267-92e3-4e40-b85a-6639308df80a",
   "metadata": {},
   "outputs": [
    {
     "name": "stdout",
     "output_type": "stream",
     "text": [
      "나의 이름은 xxx\n"
     ]
    }
   ],
   "source": [
    "#학생의 개인정보를 저장하는 딕셔너리 배열을 만들고\n",
    "#(이름, id, pw, 성별)\n",
    "#그중에 이름을 출력하는 print\n",
    "\n",
    "#{}중괄호 : map (key, value)\n",
    "# example = {'key':value}\n",
    "\n",
    "#[]대괄호 : 배열\n",
    "# example = [1, 2, 3, 4 ... ]\n",
    "std = {'name':'aaa','id':'aaa','pw':'xxx','gender':'F'}\n",
    "\n",
    "# 향상된 반복문\n",
    "# 자바> for(String item : stringArray)\n",
    "# 기본 반복문과 동일하나, 배열 처음부터 끝까지 모두 조회를 할 때 사용\n",
    "# 파이썬> item in itemArray\n",
    "if 'name' in std:\n",
    "    print('나의 이름은 '+std['name'])\n",
    "else:\n",
    "    print('이름없음')"
   ]
  },
  {
   "cell_type": "code",
   "execution_count": 15,
   "id": "ef4c501e-f55b-4c38-a46f-0e9ddf305f5a",
   "metadata": {},
   "outputs": [
    {
     "name": "stdout",
     "output_type": "stream",
     "text": [
      "dict_keys(['june', 'hello', 'world'])\n",
      "\n",
      "june : 12\n",
      "hello : 22\n",
      "world : 33\n"
     ]
    }
   ],
   "source": [
    "#key이용\n",
    "some_dict = {'june' : 12, 'hello' : 22, 'world':33}\n",
    "print(some_dict.keys())\n",
    "print()\n",
    "\n",
    "for key in some_dict.keys():\n",
    "    print(key, ':' , some_dict[key])"
   ]
  },
  {
   "cell_type": "code",
   "execution_count": 17,
   "id": "0f7ad5f4-559a-45b6-b2e9-af95f7993c85",
   "metadata": {},
   "outputs": [
    {
     "name": "stdout",
     "output_type": "stream",
     "text": [
      "june : 12\n",
      "hello : 22\n",
      "world : 33\n"
     ]
    }
   ],
   "source": [
    "#items 이용\n",
    "for key, value in some_dict.items():\n",
    "    print(key, ':' , value)"
   ]
  },
  {
   "cell_type": "code",
   "execution_count": 22,
   "id": "88f8a35a-ed68-4cf6-88c0-494fc0b50eae",
   "metadata": {},
   "outputs": [
    {
     "name": "stdout",
     "output_type": "stream",
     "text": [
      "    나이 성별   학교\n",
      "준서  15  남  덕영중\n",
      "예은  17  여  수리중\n",
      "\n",
      "Index(['준서', '예은'], dtype='object')\n",
      "\n",
      "Index(['나이', '성별', '학교'], dtype='object')\n"
     ]
    }
   ],
   "source": [
    "#데이터 프레임\n",
    "df = pd.DataFrame([[15,'남','덕영중'],[17,'여','수리중']],\n",
    "                 index=['준서','예은'],\n",
    "                 columns=['나이','성별','학교'])\n",
    "print(df)\n",
    "print()\n",
    "print(df.index)\n",
    "print()\n",
    "print(df.columns)"
   ]
  },
  {
   "cell_type": "code",
   "execution_count": 24,
   "id": "185d96f2-c02a-4ad2-b600-e09325b93fc3",
   "metadata": {},
   "outputs": [
    {
     "name": "stdout",
     "output_type": "stream",
     "text": [
      "    수학  영어   음악   체육\n",
      "서준  90  98   85  100\n",
      "우현  80  89   95   90\n",
      "인아  70  95  100   90\n",
      "\n",
      "    수학  영어   음악   체육\n",
      "서준  90  98   85  100\n",
      "인아  70  95  100   90\n",
      "\n",
      "    수학  영어  음악   체육\n",
      "서준  90  98  85  100\n"
     ]
    },
    {
     "name": "stderr",
     "output_type": "stream",
     "text": [
      "C:\\Users\\h\\AppData\\Local\\Temp\\ipykernel_10392\\1683253185.py:7: SettingWithCopyWarning: \n",
      "A value is trying to be set on a copy of a slice from a DataFrame\n",
      "\n",
      "See the caveats in the documentation: https://pandas.pydata.org/pandas-docs/stable/user_guide/indexing.html#returning-a-view-versus-a-copy\n",
      "  df2.drop('우현',inplace=True)\n",
      "C:\\Users\\h\\AppData\\Local\\Temp\\ipykernel_10392\\1683253185.py:12: SettingWithCopyWarning: \n",
      "A value is trying to be set on a copy of a slice from a DataFrame\n",
      "\n",
      "See the caveats in the documentation: https://pandas.pydata.org/pandas-docs/stable/user_guide/indexing.html#returning-a-view-versus-a-copy\n",
      "  df3.drop(['우현','인아'],axis=0, inplace=True)\n"
     ]
    }
   ],
   "source": [
    "exam_data={'수학':[90, 80, 70],'영어':[98, 89, 95],'음악':[85, 95, 100],'체육':[100, 90, 90]}\n",
    "df=pd.DataFrame(exam_data, index=['서준','우현','인아'])\n",
    "print(df)\n",
    "print()\n",
    "\n",
    "df2=df[:]\n",
    "df2.drop('우현',inplace=True)\n",
    "print(df2)\n",
    "print()\n",
    "\n",
    "df3=df[:]\n",
    "df3.drop(['우현','인아'],axis=0, inplace=True)\n",
    "print(df3)"
   ]
  },
  {
   "cell_type": "code",
   "execution_count": 26,
   "id": "edd5e7d0-71ac-4aea-a250-d45708def66c",
   "metadata": {},
   "outputs": [
    {
     "name": "stdout",
     "output_type": "stream",
     "text": [
      "   이름  수학  영어   음악   체육\n",
      "0  서준  90  98   85  100\n",
      "1  우현  80  89   95   90\n",
      "2  인아  70  95  100   90\n",
      "\n",
      "   이름  수학  영어   음악   체육  국어\n",
      "0  서준  90  98   85  100  80\n",
      "1  우현  80  89   95   90  80\n",
      "2  인아  70  95  100   90  80\n"
     ]
    }
   ],
   "source": [
    "exam_data={'이름':['서준','우현','인아'],\n",
    "           '수학':[90, 80, 70],\n",
    "           '영어':[98, 89, 95],\n",
    "           '음악':[85, 95, 100],\n",
    "           '체육':[100, 90, 90]}\n",
    "df=pd.DataFrame(exam_data)\n",
    "print(df)\n",
    "print()\n",
    "\n",
    "df['국어']=80\n",
    "print(df)"
   ]
  },
  {
   "cell_type": "code",
   "execution_count": 46,
   "id": "bd210b92-12ed-400b-b48a-cb1357721151",
   "metadata": {},
   "outputs": [
    {
     "name": "stdout",
     "output_type": "stream",
     "text": [
      "   이름  수학  영어   음악   체육\n",
      "0  서준  90  98   85  100\n",
      "1  우현  80  89   95   90\n",
      "2  인아  70  95  100   90\n",
      "\n",
      "   이름  수학  영어   음악   체육\n",
      "0  서준  90  98   85  100\n",
      "1  우현  80  89   95   90\n",
      "2  인아  70  95  100   90\n",
      "3   0   0   0    0    0\n",
      "\n",
      "   이름  수학  영어   음악   체육\n",
      "0  서준  90  98   85  100\n",
      "1  우현  80  89   95   90\n",
      "2  인아  70  95  100   90\n",
      "3   0   0   0    0    0\n",
      "4  동규  90  80   70   60\n",
      "\n",
      "    이름  수학  영어   음악   체육\n",
      "0   서준  90  98   85  100\n",
      "1   우현  80  89   95   90\n",
      "2   인아  70  95  100   90\n",
      "3    0   0   0    0    0\n",
      "4   동규  90  80   70   60\n",
      "행5   0   0   0    0    0\n"
     ]
    }
   ],
   "source": [
    "exam_data={'이름':['서준','우현','인아'],\n",
    "           '수학':[90, 80, 70],\n",
    "           '영어':[98, 89, 95],\n",
    "           '음악':[85, 95, 100],\n",
    "           '체육':[100, 90, 90]}\n",
    "df=pd.DataFrame(exam_data)\n",
    "print(df)\n",
    "print()\n",
    "\n",
    "#새로운 행 추가 - 같은 원소 값 입력\n",
    "df.loc[3]=0\n",
    "print(df)\n",
    "#df.loc[len(df)]=['동규',90,80,70,60]\n",
    "#자바는 고정, 가변 배열이 나누어진 반면 df[3]의 경우 고정배열로 한정된 메모리 범위 안에서 값을 추가\n",
    "#df.add[3]의 경우 가변배열로 마지막 칸 이후에 추가적으로 값 추가\n",
    "\n",
    "#반면 파이썬의 데이터프레임은 바로 배열 번호를 작성하면 자유롭게 추가 가능\n",
    "print()\n",
    "\n",
    "#새로운 행 추가 - 원소 값 여러 개의 배열 입력\n",
    "df.loc[4] = ['동규',90,80,70,60]\n",
    "print(df)\n",
    "print()\n",
    "\n",
    "#새로운 행 추가 - 기존 행 복사\n",
    "df.loc['행5']=df.loc[3]\n",
    "print(df)"
   ]
  },
  {
   "cell_type": "code",
   "execution_count": 51,
   "id": "d2217361-b34f-432e-a5d6-a89dfb93d7bb",
   "metadata": {},
   "outputs": [
    {
     "name": "stdout",
     "output_type": "stream",
     "text": [
      "    수학  영어   음악  체육\n",
      "이름                 \n",
      "우현  80  89   95  90\n",
      "인아  70  95  100  90\n",
      "0    0   0    0   0\n",
      "동규  90  80   70  60\n",
      "0    0   0    0   0\n",
      "\n"
     ]
    }
   ],
   "source": [
    "df.set_index('이름',inplace=True)\n",
    "print(df)\n",
    "print()"
   ]
  },
  {
   "cell_type": "code",
   "execution_count": 31,
   "id": "18fc6573-0a76-431b-9bad-b5586996e790",
   "metadata": {},
   "outputs": [
    {
     "name": "stdout",
     "output_type": "stream",
     "text": [
      "    수학  영어   음악   체육\n",
      "이름                  \n",
      "서준  90  98   85  100\n",
      "우현  80  89   95   80\n",
      "인아  70  95  100   90\n",
      "0    0   0    0    0\n",
      "동규  90  80   70   60\n",
      "0    0   0    0    0\n"
     ]
    }
   ],
   "source": [
    "df.iloc[1][3]=80\n",
    "print(df)"
   ]
  },
  {
   "cell_type": "code",
   "execution_count": 52,
   "id": "5e650ecc-4b12-4d85-a0a4-e57845cd4d18",
   "metadata": {},
   "outputs": [],
   "source": [
    "df.drop(0,inplace=True)"
   ]
  },
  {
   "cell_type": "code",
   "execution_count": 53,
   "id": "2f2dab6f-b222-4ed6-adc5-5fb4e002e0e4",
   "metadata": {},
   "outputs": [
    {
     "name": "stdout",
     "output_type": "stream",
     "text": [
      "    수학  영어   음악  체육\n",
      "이름                 \n",
      "우현  80  89   95  90\n",
      "인아  70  95  100  90\n",
      "동규  90  80   70  60\n"
     ]
    }
   ],
   "source": [
    "print(df)"
   ]
  },
  {
   "cell_type": "code",
   "execution_count": 44,
   "id": "5f757f2e-dd33-470e-9da4-ad94b8424f53",
   "metadata": {},
   "outputs": [
    {
     "name": "stdout",
     "output_type": "stream",
     "text": [
      "<bound method DataFrame.transpose of     수학  영어   음악   체육\n",
      "이름                  \n",
      "서준  90  98   85  100\n",
      "우현  80  89   95   80\n",
      "인아  70  95  100   90\n",
      "동규  90  80   70   60>\n"
     ]
    }
   ],
   "source": [
    "# df = df.transpose()\n",
    "print(df)\n",
    "#df = df.T : 클래스로 전치행렬\n",
    "#파이썬은 메서드를 사용하여 데이터 처리하는 것이 암묵적 룰\n"
   ]
  },
  {
   "cell_type": "code",
   "execution_count": null,
   "id": "79698d2a-d489-4289-8fb0-1f2420503df7",
   "metadata": {},
   "outputs": [],
   "source": [
    "#데이터프레임은 2중배열로 column과 row로 구성되어 있다\n",
    "\n",
    "#df.loc[위치] : 튜플 추가\n",
    "#drop : 튜플(row) 삭제\n",
    "#set_index : 바꾸기\n",
    "#transpose() : 행 렬 바꾸기"
   ]
  },
  {
   "cell_type": "code",
   "execution_count": null,
   "id": "44c2ba1e-b8e2-4593-8f1b-27728d7c75b3",
   "metadata": {},
   "outputs": [],
   "source": [
    "#학생 회원의 정보를 담는 데이터프레임을 만들고\n",
    "#추가하는 메서드, 삭제하는 메서드, 변경하는 메서드\n",
    "#만들어서 활용하는 코드를 자유롭게 만드시오\n",
    "\n",
    "#ex) 이름, 학번, 성별, 입학날짜, 기타사항..\n",
    "#loc[length()],drop,set_index() 컬럼을(데이터 프레임)만들고 def메서드를 3개 만들어 실해나는 코드 작성\n",
    "#SOLID원칙에서 하나의 메서드는 하나의 기능만 실행가능하게 만듬"
   ]
  },
  {
   "cell_type": "code",
   "execution_count": 149,
   "id": "5f7a7514-f638-48be-b94e-e47b12251733",
   "metadata": {},
   "outputs": [],
   "source": [
    "std = pd.DataFrame(columns=['이름','학번', '성별', '입학날짜', '기타사항'])"
   ]
  },
  {
   "cell_type": "code",
   "execution_count": 152,
   "id": "65c0d95b-aacc-4f3e-b6f6-cf3e59ca6f54",
   "metadata": {},
   "outputs": [],
   "source": [
    "def newStd(name,sc,gender,day,ex):\n",
    "    # if(len(std)==0):\n",
    "    #     std.loc[len(std)] = [name,sc, gender, day, ex]\n",
    "    #     std.set_index('이름')\n",
    "    # else:\n",
    "    std.loc[len(std)] = [name,sc, gender, day, ex]"
   ]
  },
  {
   "cell_type": "code",
   "execution_count": 153,
   "id": "7f84c9e6-cad0-4879-beba-7d2f23ae8699",
   "metadata": {},
   "outputs": [],
   "source": [
    "def delStd(name):\n",
    "    std.drop(name,inplace=True)"
   ]
  },
  {
   "cell_type": "code",
   "execution_count": null,
   "id": "42cfbe5f-9c1d-42f0-bc8d-c6a85ee0a234",
   "metadata": {},
   "outputs": [],
   "source": []
  },
  {
   "cell_type": "code",
   "execution_count": null,
   "id": "96cf14bc-7164-42f2-96e2-f00e9130c830",
   "metadata": {},
   "outputs": [],
   "source": []
  },
  {
   "cell_type": "code",
   "execution_count": null,
   "id": "269c1f18-684f-4c59-9dba-7e2e05918108",
   "metadata": {},
   "outputs": [],
   "source": []
  },
  {
   "cell_type": "code",
   "execution_count": 156,
   "id": "d3d441a5-c062-49bf-940b-213705234d1c",
   "metadata": {},
   "outputs": [
    {
     "name": "stdout",
     "output_type": "stream",
     "text": [
      "    이름 학번 성별      입학날짜 기타사항\n",
      "0  황지훈  1  남  20221011   없음\n"
     ]
    },
    {
     "data": {
      "text/plain": [
       "1"
      ]
     },
     "execution_count": 156,
     "metadata": {},
     "output_type": "execute_result"
    }
   ],
   "source": [
    "print(std)\n",
    "len(std)"
   ]
  },
  {
   "cell_type": "code",
   "execution_count": 131,
   "id": "f78389e3-5c79-46ac-a3f8-c7b8bcfde692",
   "metadata": {},
   "outputs": [],
   "source": []
  },
  {
   "cell_type": "code",
   "execution_count": 155,
   "id": "e5475067-4829-4020-be4d-615b04efd649",
   "metadata": {},
   "outputs": [
    {
     "name": "stdout",
     "output_type": "stream",
     "text": [
      "    이름 학번 성별      입학날짜 기타사항\n",
      "0  황지훈  1  남  20221011   없음\n"
     ]
    }
   ],
   "source": [
    "newStd('황지훈','1','남','20221011','없음')\n",
    "print(std)"
   ]
  },
  {
   "cell_type": "code",
   "execution_count": 159,
   "id": "abddcff6-8a02-4f6b-9590-747c7b160154",
   "metadata": {},
   "outputs": [
    {
     "name": "stdout",
     "output_type": "stream",
     "text": [
      "    이름 학번 성별      입학날짜 기타사항\n",
      "0  황지훈  1  남  20221011   없음\n"
     ]
    }
   ],
   "source": [
    "print(std)"
   ]
  },
  {
   "cell_type": "code",
   "execution_count": null,
   "id": "72f4612d-a930-41fd-8e6c-5c87a2f21278",
   "metadata": {},
   "outputs": [],
   "source": []
  },
  {
   "cell_type": "code",
   "execution_count": 158,
   "id": "d05867c6-4553-4bd6-89c9-5edf2ac19239",
   "metadata": {},
   "outputs": [
    {
     "ename": "KeyError",
     "evalue": "\"['황지훈'] not found in axis\"",
     "output_type": "error",
     "traceback": [
      "\u001b[1;31m---------------------------------------------------------------------------\u001b[0m",
      "\u001b[1;31mKeyError\u001b[0m                                  Traceback (most recent call last)",
      "Input \u001b[1;32mIn [158]\u001b[0m, in \u001b[0;36m<cell line: 1>\u001b[1;34m()\u001b[0m\n\u001b[1;32m----> 1\u001b[0m \u001b[43mstd\u001b[49m\u001b[38;5;241;43m.\u001b[39;49m\u001b[43mdrop\u001b[49m\u001b[43m(\u001b[49m\u001b[43m[\u001b[49m\u001b[38;5;124;43m'\u001b[39;49m\u001b[38;5;124;43m황지훈\u001b[39;49m\u001b[38;5;124;43m'\u001b[39;49m\u001b[43m]\u001b[49m\u001b[43m,\u001b[49m\u001b[43maxis\u001b[49m\u001b[38;5;241;43m=\u001b[39;49m\u001b[38;5;241;43m1\u001b[39;49m\u001b[43m,\u001b[49m\u001b[43minplace\u001b[49m\u001b[38;5;241;43m=\u001b[39;49m\u001b[38;5;28;43;01mTrue\u001b[39;49;00m\u001b[43m)\u001b[49m\n",
      "File \u001b[1;32m~\\.conda\\envs\\newStart\\lib\\site-packages\\pandas\\util\\_decorators.py:311\u001b[0m, in \u001b[0;36mdeprecate_nonkeyword_arguments.<locals>.decorate.<locals>.wrapper\u001b[1;34m(*args, **kwargs)\u001b[0m\n\u001b[0;32m    305\u001b[0m \u001b[38;5;28;01mif\u001b[39;00m \u001b[38;5;28mlen\u001b[39m(args) \u001b[38;5;241m>\u001b[39m num_allow_args:\n\u001b[0;32m    306\u001b[0m     warnings\u001b[38;5;241m.\u001b[39mwarn(\n\u001b[0;32m    307\u001b[0m         msg\u001b[38;5;241m.\u001b[39mformat(arguments\u001b[38;5;241m=\u001b[39marguments),\n\u001b[0;32m    308\u001b[0m         \u001b[38;5;167;01mFutureWarning\u001b[39;00m,\n\u001b[0;32m    309\u001b[0m         stacklevel\u001b[38;5;241m=\u001b[39mstacklevel,\n\u001b[0;32m    310\u001b[0m     )\n\u001b[1;32m--> 311\u001b[0m \u001b[38;5;28;01mreturn\u001b[39;00m func(\u001b[38;5;241m*\u001b[39margs, \u001b[38;5;241m*\u001b[39m\u001b[38;5;241m*\u001b[39mkwargs)\n",
      "File \u001b[1;32m~\\.conda\\envs\\newStart\\lib\\site-packages\\pandas\\core\\frame.py:4957\u001b[0m, in \u001b[0;36mDataFrame.drop\u001b[1;34m(self, labels, axis, index, columns, level, inplace, errors)\u001b[0m\n\u001b[0;32m   4809\u001b[0m \u001b[38;5;129m@deprecate_nonkeyword_arguments\u001b[39m(version\u001b[38;5;241m=\u001b[39m\u001b[38;5;28;01mNone\u001b[39;00m, allowed_args\u001b[38;5;241m=\u001b[39m[\u001b[38;5;124m\"\u001b[39m\u001b[38;5;124mself\u001b[39m\u001b[38;5;124m\"\u001b[39m, \u001b[38;5;124m\"\u001b[39m\u001b[38;5;124mlabels\u001b[39m\u001b[38;5;124m\"\u001b[39m])\n\u001b[0;32m   4810\u001b[0m \u001b[38;5;28;01mdef\u001b[39;00m \u001b[38;5;21mdrop\u001b[39m(\n\u001b[0;32m   4811\u001b[0m     \u001b[38;5;28mself\u001b[39m,\n\u001b[1;32m   (...)\u001b[0m\n\u001b[0;32m   4818\u001b[0m     errors: \u001b[38;5;28mstr\u001b[39m \u001b[38;5;241m=\u001b[39m \u001b[38;5;124m\"\u001b[39m\u001b[38;5;124mraise\u001b[39m\u001b[38;5;124m\"\u001b[39m,\n\u001b[0;32m   4819\u001b[0m ):\n\u001b[0;32m   4820\u001b[0m     \u001b[38;5;124;03m\"\"\"\u001b[39;00m\n\u001b[0;32m   4821\u001b[0m \u001b[38;5;124;03m    Drop specified labels from rows or columns.\u001b[39;00m\n\u001b[0;32m   4822\u001b[0m \n\u001b[1;32m   (...)\u001b[0m\n\u001b[0;32m   4955\u001b[0m \u001b[38;5;124;03m            weight  1.0     0.8\u001b[39;00m\n\u001b[0;32m   4956\u001b[0m \u001b[38;5;124;03m    \"\"\"\u001b[39;00m\n\u001b[1;32m-> 4957\u001b[0m     \u001b[38;5;28;01mreturn\u001b[39;00m \u001b[38;5;28;43msuper\u001b[39;49m\u001b[43m(\u001b[49m\u001b[43m)\u001b[49m\u001b[38;5;241;43m.\u001b[39;49m\u001b[43mdrop\u001b[49m\u001b[43m(\u001b[49m\n\u001b[0;32m   4958\u001b[0m \u001b[43m        \u001b[49m\u001b[43mlabels\u001b[49m\u001b[38;5;241;43m=\u001b[39;49m\u001b[43mlabels\u001b[49m\u001b[43m,\u001b[49m\n\u001b[0;32m   4959\u001b[0m \u001b[43m        \u001b[49m\u001b[43maxis\u001b[49m\u001b[38;5;241;43m=\u001b[39;49m\u001b[43maxis\u001b[49m\u001b[43m,\u001b[49m\n\u001b[0;32m   4960\u001b[0m \u001b[43m        \u001b[49m\u001b[43mindex\u001b[49m\u001b[38;5;241;43m=\u001b[39;49m\u001b[43mindex\u001b[49m\u001b[43m,\u001b[49m\n\u001b[0;32m   4961\u001b[0m \u001b[43m        \u001b[49m\u001b[43mcolumns\u001b[49m\u001b[38;5;241;43m=\u001b[39;49m\u001b[43mcolumns\u001b[49m\u001b[43m,\u001b[49m\n\u001b[0;32m   4962\u001b[0m \u001b[43m        \u001b[49m\u001b[43mlevel\u001b[49m\u001b[38;5;241;43m=\u001b[39;49m\u001b[43mlevel\u001b[49m\u001b[43m,\u001b[49m\n\u001b[0;32m   4963\u001b[0m \u001b[43m        \u001b[49m\u001b[43minplace\u001b[49m\u001b[38;5;241;43m=\u001b[39;49m\u001b[43minplace\u001b[49m\u001b[43m,\u001b[49m\n\u001b[0;32m   4964\u001b[0m \u001b[43m        \u001b[49m\u001b[43merrors\u001b[49m\u001b[38;5;241;43m=\u001b[39;49m\u001b[43merrors\u001b[49m\u001b[43m,\u001b[49m\n\u001b[0;32m   4965\u001b[0m \u001b[43m    \u001b[49m\u001b[43m)\u001b[49m\n",
      "File \u001b[1;32m~\\.conda\\envs\\newStart\\lib\\site-packages\\pandas\\core\\generic.py:4267\u001b[0m, in \u001b[0;36mNDFrame.drop\u001b[1;34m(self, labels, axis, index, columns, level, inplace, errors)\u001b[0m\n\u001b[0;32m   4265\u001b[0m \u001b[38;5;28;01mfor\u001b[39;00m axis, labels \u001b[38;5;129;01min\u001b[39;00m axes\u001b[38;5;241m.\u001b[39mitems():\n\u001b[0;32m   4266\u001b[0m     \u001b[38;5;28;01mif\u001b[39;00m labels \u001b[38;5;129;01mis\u001b[39;00m \u001b[38;5;129;01mnot\u001b[39;00m \u001b[38;5;28;01mNone\u001b[39;00m:\n\u001b[1;32m-> 4267\u001b[0m         obj \u001b[38;5;241m=\u001b[39m \u001b[43mobj\u001b[49m\u001b[38;5;241;43m.\u001b[39;49m\u001b[43m_drop_axis\u001b[49m\u001b[43m(\u001b[49m\u001b[43mlabels\u001b[49m\u001b[43m,\u001b[49m\u001b[43m \u001b[49m\u001b[43maxis\u001b[49m\u001b[43m,\u001b[49m\u001b[43m \u001b[49m\u001b[43mlevel\u001b[49m\u001b[38;5;241;43m=\u001b[39;49m\u001b[43mlevel\u001b[49m\u001b[43m,\u001b[49m\u001b[43m \u001b[49m\u001b[43merrors\u001b[49m\u001b[38;5;241;43m=\u001b[39;49m\u001b[43merrors\u001b[49m\u001b[43m)\u001b[49m\n\u001b[0;32m   4269\u001b[0m \u001b[38;5;28;01mif\u001b[39;00m inplace:\n\u001b[0;32m   4270\u001b[0m     \u001b[38;5;28mself\u001b[39m\u001b[38;5;241m.\u001b[39m_update_inplace(obj)\n",
      "File \u001b[1;32m~\\.conda\\envs\\newStart\\lib\\site-packages\\pandas\\core\\generic.py:4311\u001b[0m, in \u001b[0;36mNDFrame._drop_axis\u001b[1;34m(self, labels, axis, level, errors, consolidate, only_slice)\u001b[0m\n\u001b[0;32m   4309\u001b[0m         new_axis \u001b[38;5;241m=\u001b[39m axis\u001b[38;5;241m.\u001b[39mdrop(labels, level\u001b[38;5;241m=\u001b[39mlevel, errors\u001b[38;5;241m=\u001b[39merrors)\n\u001b[0;32m   4310\u001b[0m     \u001b[38;5;28;01melse\u001b[39;00m:\n\u001b[1;32m-> 4311\u001b[0m         new_axis \u001b[38;5;241m=\u001b[39m \u001b[43maxis\u001b[49m\u001b[38;5;241;43m.\u001b[39;49m\u001b[43mdrop\u001b[49m\u001b[43m(\u001b[49m\u001b[43mlabels\u001b[49m\u001b[43m,\u001b[49m\u001b[43m \u001b[49m\u001b[43merrors\u001b[49m\u001b[38;5;241;43m=\u001b[39;49m\u001b[43merrors\u001b[49m\u001b[43m)\u001b[49m\n\u001b[0;32m   4312\u001b[0m     indexer \u001b[38;5;241m=\u001b[39m axis\u001b[38;5;241m.\u001b[39mget_indexer(new_axis)\n\u001b[0;32m   4314\u001b[0m \u001b[38;5;66;03m# Case for non-unique axis\u001b[39;00m\n\u001b[0;32m   4315\u001b[0m \u001b[38;5;28;01melse\u001b[39;00m:\n",
      "File \u001b[1;32m~\\.conda\\envs\\newStart\\lib\\site-packages\\pandas\\core\\indexes\\base.py:6661\u001b[0m, in \u001b[0;36mIndex.drop\u001b[1;34m(self, labels, errors)\u001b[0m\n\u001b[0;32m   6659\u001b[0m \u001b[38;5;28;01mif\u001b[39;00m mask\u001b[38;5;241m.\u001b[39many():\n\u001b[0;32m   6660\u001b[0m     \u001b[38;5;28;01mif\u001b[39;00m errors \u001b[38;5;241m!=\u001b[39m \u001b[38;5;124m\"\u001b[39m\u001b[38;5;124mignore\u001b[39m\u001b[38;5;124m\"\u001b[39m:\n\u001b[1;32m-> 6661\u001b[0m         \u001b[38;5;28;01mraise\u001b[39;00m \u001b[38;5;167;01mKeyError\u001b[39;00m(\u001b[38;5;124mf\u001b[39m\u001b[38;5;124m\"\u001b[39m\u001b[38;5;132;01m{\u001b[39;00m\u001b[38;5;28mlist\u001b[39m(labels[mask])\u001b[38;5;132;01m}\u001b[39;00m\u001b[38;5;124m not found in axis\u001b[39m\u001b[38;5;124m\"\u001b[39m)\n\u001b[0;32m   6662\u001b[0m     indexer \u001b[38;5;241m=\u001b[39m indexer[\u001b[38;5;241m~\u001b[39mmask]\n\u001b[0;32m   6663\u001b[0m \u001b[38;5;28;01mreturn\u001b[39;00m \u001b[38;5;28mself\u001b[39m\u001b[38;5;241m.\u001b[39mdelete(indexer)\n",
      "\u001b[1;31mKeyError\u001b[0m: \"['황지훈'] not found in axis\""
     ]
    }
   ],
   "source": [
    "std.drop(,inplace=True)\n"
   ]
  },
  {
   "cell_type": "code",
   "execution_count": null,
   "id": "a7c49550-833e-4cf2-9871-9c4cef0ae060",
   "metadata": {},
   "outputs": [],
   "source": []
  },
  {
   "cell_type": "code",
   "execution_count": null,
   "id": "19cae854-e161-4048-8e03-31692f66d2ef",
   "metadata": {},
   "outputs": [],
   "source": []
  },
  {
   "cell_type": "code",
   "execution_count": null,
   "id": "0cd8dfc2-4f5a-47ec-b1d1-fe453e0bd266",
   "metadata": {},
   "outputs": [],
   "source": []
  },
  {
   "cell_type": "code",
   "execution_count": 160,
   "id": "15250383-6b33-442b-aed9-03ea2beeaeeb",
   "metadata": {},
   "outputs": [],
   "source": [
    "exam_data={'이름':['서준','우현','인아'],\n",
    "           '수학':[90, 80, 70],\n",
    "           '영어':[98, 89, 95],\n",
    "           '음악':[85, 95, 100],\n",
    "           '체육':[100, 90, 90]}\n",
    "global ef\n",
    "ef=pd.DataFrame(exam_data)"
   ]
  },
  {
   "cell_type": "code",
   "execution_count": 163,
   "id": "40c263f1-c261-4b51-a51d-69ca1853eed0",
   "metadata": {},
   "outputs": [],
   "source": [
    "def funcInsert(name,num1,num2,num3,num4):\n",
    "    global df\n",
    "    df.loc[len(df)] = {name,num1,num2,num3,num4}\n",
    "    #df.append(data_set, ignore_index=True)"
   ]
  },
  {
   "cell_type": "code",
   "execution_count": null,
   "id": "73e677b0-88ce-4340-aafc-c8b9c9bfe4b8",
   "metadata": {},
   "outputs": [],
   "source": [
    "def funcUpdate(name, num1, num2, num3,num4):\n",
    "    global df\n",
    "    df.loc[df.이름==name,('수학','영어','음악','체육')]"
   ]
  },
  {
   "cell_type": "code",
   "execution_count": null,
   "id": "900e8e45-5247-4791-a38c-11e73e77b892",
   "metadata": {},
   "outputs": [],
   "source": [
    "def funcDelete(name):\n",
    "    global df\n",
    "    df=df.loc[df.이름!=name]"
   ]
  }
 ],
 "metadata": {
  "kernelspec": {
   "display_name": "Python 3 (ipykernel)",
   "language": "python",
   "name": "python3"
  },
  "language_info": {
   "codemirror_mode": {
    "name": "ipython",
    "version": 3
   },
   "file_extension": ".py",
   "mimetype": "text/x-python",
   "name": "python",
   "nbconvert_exporter": "python",
   "pygments_lexer": "ipython3",
   "version": "3.9.0"
  }
 },
 "nbformat": 4,
 "nbformat_minor": 5
}
