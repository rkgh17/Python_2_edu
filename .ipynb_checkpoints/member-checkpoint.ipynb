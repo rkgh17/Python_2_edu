{
 "cells": [
  {
   "cell_type": "code",
   "execution_count": 1,
   "id": "5304a96b-f154-47f6-a172-a089a0a479af",
   "metadata": {},
   "outputs": [],
   "source": [
    "import pandas as pd"
   ]
  },
  {
   "cell_type": "code",
   "execution_count": null,
   "id": "2e638a8e-e76b-4820-afb5-951e62ac3b82",
   "metadata": {},
   "outputs": [],
   "source": [
    "#회원가입 만들기\n",
    "#1. id, pw, name 변수의 값을 저장하는 데이터 프레임을 만들기\n",
    "#2. id, pw, name값을 받고, df데이터프레임에 저장하는 기능 구현\n",
    "#3. id값을 찾아서 같은 id값이면 '같은 id가 있습니다.' 출력\n",
    "#4. id값을 찾아서 그 row의 pw의 값을 변경하는 메서드 구현"
   ]
  },
  {
   "cell_type": "code",
   "execution_count": 30,
   "id": "c78254b6-4ea7-4007-a0af-1c180418f85b",
   "metadata": {},
   "outputs": [],
   "source": [
    "member = pd.DataFrame(columns=['id','pw', 'name'])"
   ]
  },
  {
   "cell_type": "code",
   "execution_count": 47,
   "id": "e9d299d5-9ac4-4d8b-9175-3f2c685692fa",
   "metadata": {},
   "outputs": [],
   "source": [
    "# 저장기능 + id중복 x\n",
    "def mem_insert(num1, num2, num3):\n",
    "    member.loc[len(member)] = [num1, num2, num3]\n",
    "    dup = member.duplicated(['id'])\n",
    "    for i in dup:\n",
    "        if i is True:\n",
    "            print('id 중복입니다.')\n",
    "            member.drop_duplicates(['id'],keep='first')"
   ]
  },
  {
   "cell_type": "code",
   "execution_count": 10,
   "id": "8ad744bc-133c-4d89-ac52-fbddf22e4ba1",
   "metadata": {},
   "outputs": [],
   "source": []
  },
  {
   "cell_type": "code",
   "execution_count": 48,
   "id": "493d7df1-b4e5-456b-bedf-d826744646af",
   "metadata": {},
   "outputs": [
    {
     "name": "stdout",
     "output_type": "stream",
     "text": [
      "id 중복입니다.\n",
      "id 중복입니다.\n",
      "id 중복입니다.\n"
     ]
    }
   ],
   "source": [
    "mem_insert('bbb','1234','wlgns')"
   ]
  },
  {
   "cell_type": "code",
   "execution_count": 49,
   "id": "8f6788cd-8958-4ace-bde2-b82f422679a9",
   "metadata": {},
   "outputs": [
    {
     "data": {
      "text/html": [
       "<div>\n",
       "<style scoped>\n",
       "    .dataframe tbody tr th:only-of-type {\n",
       "        vertical-align: middle;\n",
       "    }\n",
       "\n",
       "    .dataframe tbody tr th {\n",
       "        vertical-align: top;\n",
       "    }\n",
       "\n",
       "    .dataframe thead th {\n",
       "        text-align: right;\n",
       "    }\n",
       "</style>\n",
       "<table border=\"1\" class=\"dataframe\">\n",
       "  <thead>\n",
       "    <tr style=\"text-align: right;\">\n",
       "      <th></th>\n",
       "      <th>id</th>\n",
       "      <th>pw</th>\n",
       "      <th>name</th>\n",
       "    </tr>\n",
       "  </thead>\n",
       "  <tbody>\n",
       "    <tr>\n",
       "      <th>0</th>\n",
       "      <td>bbb</td>\n",
       "      <td>1234</td>\n",
       "      <td>wlgns</td>\n",
       "    </tr>\n",
       "    <tr>\n",
       "      <th>1</th>\n",
       "      <td>bbb</td>\n",
       "      <td>1234</td>\n",
       "      <td>wlgns</td>\n",
       "    </tr>\n",
       "    <tr>\n",
       "      <th>2</th>\n",
       "      <td>bbb</td>\n",
       "      <td>1234</td>\n",
       "      <td>wlgns</td>\n",
       "    </tr>\n",
       "    <tr>\n",
       "      <th>3</th>\n",
       "      <td>bbb</td>\n",
       "      <td>1234</td>\n",
       "      <td>wlgns</td>\n",
       "    </tr>\n",
       "  </tbody>\n",
       "</table>\n",
       "</div>"
      ],
      "text/plain": [
       "    id    pw   name\n",
       "0  bbb  1234  wlgns\n",
       "1  bbb  1234  wlgns\n",
       "2  bbb  1234  wlgns\n",
       "3  bbb  1234  wlgns"
      ]
     },
     "execution_count": 49,
     "metadata": {},
     "output_type": "execute_result"
    }
   ],
   "source": [
    "member"
   ]
  },
  {
   "cell_type": "code",
   "execution_count": 40,
   "id": "464d6c9b-9d06-4676-8a0a-794fa2ba6cc2",
   "metadata": {},
   "outputs": [
    {
     "data": {
      "text/plain": [
       "True"
      ]
     },
     "execution_count": 40,
     "metadata": {},
     "output_type": "execute_result"
    }
   ],
   "source": [
    "dup = member.duplicated(['id'])\n",
    "dup[1]"
   ]
  },
  {
   "cell_type": "code",
   "execution_count": 43,
   "id": "abcb26ed-c829-4446-b50d-9bdb14a0fc6a",
   "metadata": {},
   "outputs": [
    {
     "name": "stdout",
     "output_type": "stream",
     "text": [
      "False\n",
      "True\n"
     ]
    }
   ],
   "source": [
    "for i in dup:\n",
    "    print(i)"
   ]
  }
 ],
 "metadata": {
  "kernelspec": {
   "display_name": "Python 3 (ipykernel)",
   "language": "python",
   "name": "python3"
  },
  "language_info": {
   "codemirror_mode": {
    "name": "ipython",
    "version": 3
   },
   "file_extension": ".py",
   "mimetype": "text/x-python",
   "name": "python",
   "nbconvert_exporter": "python",
   "pygments_lexer": "ipython3",
   "version": "3.9.0"
  }
 },
 "nbformat": 4,
 "nbformat_minor": 5
}
